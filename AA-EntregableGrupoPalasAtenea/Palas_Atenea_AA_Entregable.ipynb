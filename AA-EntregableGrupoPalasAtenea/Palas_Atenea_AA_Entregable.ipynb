{
  "nbformat": 4,
  "nbformat_minor": 0,
  "metadata": {
    "colab": {
      "name": "Palas Atenea - AA - Entregable.ipynb",
      "provenance": [],
      "collapsed_sections": [],
      "toc_visible": true
    },
    "kernelspec": {
      "display_name": "Python 3",
      "name": "python3"
    },
    "language_info": {
      "name": "python"
    }
  },
  "cells": [
    {
      "cell_type": "markdown",
      "metadata": {
        "id": "OUSIBcKJjK-_"
      },
      "source": [
        "\n",
        "**Diplomatura en Ciencia de Datos, Aprendizaje Automático y sus Aplicaciones**\n",
        "\n",
        "**Edición 2021**\n",
        "\n",
        "---\n",
        "## Trabajo práctico entregable\n",
        "\n",
        "### Integrantes\n",
        "- Bosch, Daniela\n",
        "- Gherra, Estefanía\n",
        "- Iberra, Yanina\n",
        "- Mantovani, Luciano\n",
        "- Palacio Pastor, Natalí"
      ]
    },
    {
      "cell_type": "markdown",
      "metadata": {
        "id": "prrQe8SW1Kt6"
      },
      "source": [
        "## Introducción\n",
        "\n",
        "Esta notebook presenta el trabajo de aprendizaje supervisado realizado para la [competencia en Kaggle de la Diplomatura en Ciencia de Datos](https://www.kaggle.com/c/diplodatos-travel-insurance-prediction-data).\n",
        "\n",
        "Esta competencia constituye el práctico de la materia Aprendizaje Supervisado de la edición 2021 de la Diplodatos. La misma está basada en los datos de la competencia [Travel Insurance Prediction Data de Kaggle](https://www.kaggle.com/tejashvi14/travel-insurance-prediction-data).\n",
        "\n",
        "El objetivo es intentar predecir si un cliente estaría interesado en comprar un seguro de viaje.\n",
        "\n"
      ]
    },
    {
      "cell_type": "code",
      "metadata": {
        "id": "AiEyO96UjKBG",
        "colab": {
          "base_uri": "https://localhost:8080/"
        },
        "outputId": "a67ff3c1-0706-44f7-9e4c-c0d8745b947c"
      },
      "source": [
        "!pip install catboost\n",
        "import numpy as np\n",
        "import pandas as pd\n",
        "import matplotlib.pyplot as plt\n",
        "import seaborn\n",
        "\n",
        "from google.colab import files\n",
        "\n",
        "from sklearn.model_selection import train_test_split, cross_val_score \n",
        "from sklearn.model_selection import StratifiedKFold, GridSearchCV\n",
        "\n",
        "from sklearn.metrics import classification_report\n",
        "\n",
        "from sklearn.preprocessing import KBinsDiscretizer, OneHotEncoder\n",
        "from sklearn.preprocessing import StandardScaler, MinMaxScaler, RobustScaler\n",
        "from sklearn.pipeline import make_pipeline\n",
        "from sklearn.compose import make_column_transformer\n",
        "\n",
        "from xgboost import XGBClassifier\n",
        "from lightgbm import LGBMClassifier\n",
        "from catboost import CatBoostClassifier\n",
        "from sklearn.tree import DecisionTreeClassifier\n",
        "from sklearn.ensemble import RandomForestClassifier\n",
        "from sklearn.svm import SVC\n",
        "from sklearn.neighbors import KNeighborsClassifier\n",
        "from sklearn.ensemble import GradientBoostingClassifier"
      ],
      "execution_count": null,
      "outputs": [
        {
          "output_type": "stream",
          "name": "stdout",
          "text": [
            "Requirement already satisfied: catboost in /usr/local/lib/python3.7/dist-packages (0.26.1)\n",
            "Requirement already satisfied: plotly in /usr/local/lib/python3.7/dist-packages (from catboost) (4.4.1)\n",
            "Requirement already satisfied: graphviz in /usr/local/lib/python3.7/dist-packages (from catboost) (0.10.1)\n",
            "Requirement already satisfied: scipy in /usr/local/lib/python3.7/dist-packages (from catboost) (1.4.1)\n",
            "Requirement already satisfied: matplotlib in /usr/local/lib/python3.7/dist-packages (from catboost) (3.2.2)\n",
            "Requirement already satisfied: six in /usr/local/lib/python3.7/dist-packages (from catboost) (1.15.0)\n",
            "Requirement already satisfied: pandas>=0.24.0 in /usr/local/lib/python3.7/dist-packages (from catboost) (1.1.5)\n",
            "Requirement already satisfied: numpy>=1.16.0 in /usr/local/lib/python3.7/dist-packages (from catboost) (1.19.5)\n",
            "Requirement already satisfied: python-dateutil>=2.7.3 in /usr/local/lib/python3.7/dist-packages (from pandas>=0.24.0->catboost) (2.8.2)\n",
            "Requirement already satisfied: pytz>=2017.2 in /usr/local/lib/python3.7/dist-packages (from pandas>=0.24.0->catboost) (2018.9)\n",
            "Requirement already satisfied: kiwisolver>=1.0.1 in /usr/local/lib/python3.7/dist-packages (from matplotlib->catboost) (1.3.2)\n",
            "Requirement already satisfied: cycler>=0.10 in /usr/local/lib/python3.7/dist-packages (from matplotlib->catboost) (0.10.0)\n",
            "Requirement already satisfied: pyparsing!=2.0.4,!=2.1.2,!=2.1.6,>=2.0.1 in /usr/local/lib/python3.7/dist-packages (from matplotlib->catboost) (2.4.7)\n",
            "Requirement already satisfied: retrying>=1.3.3 in /usr/local/lib/python3.7/dist-packages (from plotly->catboost) (1.3.3)\n"
          ]
        }
      ]
    },
    {
      "cell_type": "markdown",
      "metadata": {
        "id": "JiJSKDmb1Ox6"
      },
      "source": [
        "## Lectura del dataset\n",
        "\n",
        "Obtenemos los datos de entrenamiento y los datos de test. Sobre el segundo conjunto se realizará la predicción final que será presentada en la plataforma Kaggle."
      ]
    },
    {
      "cell_type": "code",
      "metadata": {
        "colab": {
          "resources": {
            "http://localhost:8080/nbextensions/google.colab/files.js": {
              "data": "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",
              "ok": true,
              "headers": [
                [
                  "content-type",
                  "application/javascript"
                ]
              ],
              "status": 200,
              "status_text": "OK"
            }
          },
          "base_uri": "https://localhost:8080/",
          "height": 146
        },
        "id": "NJ6pFhM4jJ_L",
        "outputId": "19921bb5-87a1-432d-81b1-d245e75e412a"
      },
      "source": [
        "from google.colab import files\n",
        "uploaded = files.upload()"
      ],
      "execution_count": null,
      "outputs": [
        {
          "output_type": "display_data",
          "data": {
            "text/html": [
              "\n",
              "     <input type=\"file\" id=\"files-91a456eb-6ef8-4de9-aa23-f7119ab9c8c2\" name=\"files[]\" multiple disabled\n",
              "        style=\"border:none\" />\n",
              "     <output id=\"result-91a456eb-6ef8-4de9-aa23-f7119ab9c8c2\">\n",
              "      Upload widget is only available when the cell has been executed in the\n",
              "      current browser session. Please rerun this cell to enable.\n",
              "      </output>\n",
              "      <script src=\"/nbextensions/google.colab/files.js\"></script> "
            ],
            "text/plain": [
              "<IPython.core.display.HTML object>"
            ]
          },
          "metadata": {}
        },
        {
          "output_type": "stream",
          "name": "stdout",
          "text": [
            "Saving travel_insurance_prediction_test.csv to travel_insurance_prediction_test (2).csv\n",
            "Saving travel_insurance_prediction_train.csv to travel_insurance_prediction_train (2).csv\n",
            "Saving travel_insurance_submission.csv to travel_insurance_submission (2).csv\n"
          ]
        }
      ]
    },
    {
      "cell_type": "code",
      "metadata": {
        "id": "sU34G5lUjJ8g"
      },
      "source": [
        "import io\n",
        "train_df = pd.read_csv(\n",
        "    io.StringIO(uploaded['travel_insurance_prediction_train.csv'].decode('utf-8')),\n",
        ")\n",
        "test_df = pd.read_csv(\n",
        "    io.StringIO(uploaded['travel_insurance_prediction_test.csv'].decode('utf-8')),\n",
        ")"
      ],
      "execution_count": null,
      "outputs": []
    },
    {
      "cell_type": "code",
      "metadata": {
        "id": "PURxnqOejJ5Z",
        "colab": {
          "base_uri": "https://localhost:8080/",
          "height": 276
        },
        "outputId": "e8b4a99d-b00c-424a-8466-77ce61917f44"
      },
      "source": [
        "train_df.head()"
      ],
      "execution_count": null,
      "outputs": [
        {
          "output_type": "execute_result",
          "data": {
            "text/html": [
              "<div>\n",
              "<style scoped>\n",
              "    .dataframe tbody tr th:only-of-type {\n",
              "        vertical-align: middle;\n",
              "    }\n",
              "\n",
              "    .dataframe tbody tr th {\n",
              "        vertical-align: top;\n",
              "    }\n",
              "\n",
              "    .dataframe thead th {\n",
              "        text-align: right;\n",
              "    }\n",
              "</style>\n",
              "<table border=\"1\" class=\"dataframe\">\n",
              "  <thead>\n",
              "    <tr style=\"text-align: right;\">\n",
              "      <th></th>\n",
              "      <th>Customer</th>\n",
              "      <th>Age</th>\n",
              "      <th>Employment Type</th>\n",
              "      <th>GraduateOrNot</th>\n",
              "      <th>AnnualIncome</th>\n",
              "      <th>FamilyMembers</th>\n",
              "      <th>ChronicDiseases</th>\n",
              "      <th>FrequentFlyer</th>\n",
              "      <th>EverTravelledAbroad</th>\n",
              "      <th>TravelInsurance</th>\n",
              "    </tr>\n",
              "  </thead>\n",
              "  <tbody>\n",
              "    <tr>\n",
              "      <th>0</th>\n",
              "      <td>1</td>\n",
              "      <td>33</td>\n",
              "      <td>Private Sector/Self Employed</td>\n",
              "      <td>Yes</td>\n",
              "      <td>550000</td>\n",
              "      <td>6</td>\n",
              "      <td>0</td>\n",
              "      <td>No</td>\n",
              "      <td>No</td>\n",
              "      <td>1</td>\n",
              "    </tr>\n",
              "    <tr>\n",
              "      <th>1</th>\n",
              "      <td>2</td>\n",
              "      <td>28</td>\n",
              "      <td>Private Sector/Self Employed</td>\n",
              "      <td>Yes</td>\n",
              "      <td>800000</td>\n",
              "      <td>7</td>\n",
              "      <td>0</td>\n",
              "      <td>Yes</td>\n",
              "      <td>No</td>\n",
              "      <td>0</td>\n",
              "    </tr>\n",
              "    <tr>\n",
              "      <th>2</th>\n",
              "      <td>3</td>\n",
              "      <td>31</td>\n",
              "      <td>Private Sector/Self Employed</td>\n",
              "      <td>Yes</td>\n",
              "      <td>1250000</td>\n",
              "      <td>4</td>\n",
              "      <td>0</td>\n",
              "      <td>No</td>\n",
              "      <td>No</td>\n",
              "      <td>0</td>\n",
              "    </tr>\n",
              "    <tr>\n",
              "      <th>3</th>\n",
              "      <td>4</td>\n",
              "      <td>31</td>\n",
              "      <td>Government Sector</td>\n",
              "      <td>No</td>\n",
              "      <td>300000</td>\n",
              "      <td>7</td>\n",
              "      <td>0</td>\n",
              "      <td>No</td>\n",
              "      <td>No</td>\n",
              "      <td>0</td>\n",
              "    </tr>\n",
              "    <tr>\n",
              "      <th>4</th>\n",
              "      <td>5</td>\n",
              "      <td>28</td>\n",
              "      <td>Private Sector/Self Employed</td>\n",
              "      <td>Yes</td>\n",
              "      <td>1250000</td>\n",
              "      <td>3</td>\n",
              "      <td>0</td>\n",
              "      <td>No</td>\n",
              "      <td>No</td>\n",
              "      <td>0</td>\n",
              "    </tr>\n",
              "  </tbody>\n",
              "</table>\n",
              "</div>"
            ],
            "text/plain": [
              "   Customer  Age  ... EverTravelledAbroad TravelInsurance\n",
              "0         1   33  ...                  No               1\n",
              "1         2   28  ...                  No               0\n",
              "2         3   31  ...                  No               0\n",
              "3         4   31  ...                  No               0\n",
              "4         5   28  ...                  No               0\n",
              "\n",
              "[5 rows x 10 columns]"
            ]
          },
          "metadata": {},
          "execution_count": 145
        }
      ]
    },
    {
      "cell_type": "code",
      "metadata": {
        "id": "NGRIFglljJ2z",
        "colab": {
          "base_uri": "https://localhost:8080/",
          "height": 206
        },
        "outputId": "95bc5317-9659-407b-e716-896203217248"
      },
      "source": [
        "test_df.head()"
      ],
      "execution_count": null,
      "outputs": [
        {
          "output_type": "execute_result",
          "data": {
            "text/html": [
              "<div>\n",
              "<style scoped>\n",
              "    .dataframe tbody tr th:only-of-type {\n",
              "        vertical-align: middle;\n",
              "    }\n",
              "\n",
              "    .dataframe tbody tr th {\n",
              "        vertical-align: top;\n",
              "    }\n",
              "\n",
              "    .dataframe thead th {\n",
              "        text-align: right;\n",
              "    }\n",
              "</style>\n",
              "<table border=\"1\" class=\"dataframe\">\n",
              "  <thead>\n",
              "    <tr style=\"text-align: right;\">\n",
              "      <th></th>\n",
              "      <th>Customer</th>\n",
              "      <th>Age</th>\n",
              "      <th>Employment Type</th>\n",
              "      <th>GraduateOrNot</th>\n",
              "      <th>AnnualIncome</th>\n",
              "      <th>FamilyMembers</th>\n",
              "      <th>ChronicDiseases</th>\n",
              "      <th>FrequentFlyer</th>\n",
              "      <th>EverTravelledAbroad</th>\n",
              "    </tr>\n",
              "  </thead>\n",
              "  <tbody>\n",
              "    <tr>\n",
              "      <th>0</th>\n",
              "      <td>1491</td>\n",
              "      <td>29</td>\n",
              "      <td>Private Sector/Self Employed</td>\n",
              "      <td>Yes</td>\n",
              "      <td>1100000</td>\n",
              "      <td>4</td>\n",
              "      <td>0</td>\n",
              "      <td>No</td>\n",
              "      <td>No</td>\n",
              "    </tr>\n",
              "    <tr>\n",
              "      <th>1</th>\n",
              "      <td>1492</td>\n",
              "      <td>28</td>\n",
              "      <td>Private Sector/Self Employed</td>\n",
              "      <td>Yes</td>\n",
              "      <td>750000</td>\n",
              "      <td>5</td>\n",
              "      <td>1</td>\n",
              "      <td>Yes</td>\n",
              "      <td>No</td>\n",
              "    </tr>\n",
              "    <tr>\n",
              "      <th>2</th>\n",
              "      <td>1493</td>\n",
              "      <td>31</td>\n",
              "      <td>Government Sector</td>\n",
              "      <td>Yes</td>\n",
              "      <td>1500000</td>\n",
              "      <td>4</td>\n",
              "      <td>0</td>\n",
              "      <td>Yes</td>\n",
              "      <td>Yes</td>\n",
              "    </tr>\n",
              "    <tr>\n",
              "      <th>3</th>\n",
              "      <td>1494</td>\n",
              "      <td>28</td>\n",
              "      <td>Private Sector/Self Employed</td>\n",
              "      <td>Yes</td>\n",
              "      <td>1400000</td>\n",
              "      <td>3</td>\n",
              "      <td>0</td>\n",
              "      <td>No</td>\n",
              "      <td>Yes</td>\n",
              "    </tr>\n",
              "    <tr>\n",
              "      <th>4</th>\n",
              "      <td>1495</td>\n",
              "      <td>33</td>\n",
              "      <td>Private Sector/Self Employed</td>\n",
              "      <td>Yes</td>\n",
              "      <td>1500000</td>\n",
              "      <td>4</td>\n",
              "      <td>0</td>\n",
              "      <td>Yes</td>\n",
              "      <td>Yes</td>\n",
              "    </tr>\n",
              "  </tbody>\n",
              "</table>\n",
              "</div>"
            ],
            "text/plain": [
              "   Customer  Age  ... FrequentFlyer EverTravelledAbroad\n",
              "0      1491   29  ...            No                  No\n",
              "1      1492   28  ...           Yes                  No\n",
              "2      1493   31  ...           Yes                 Yes\n",
              "3      1494   28  ...            No                 Yes\n",
              "4      1495   33  ...           Yes                 Yes\n",
              "\n",
              "[5 rows x 9 columns]"
            ]
          },
          "metadata": {},
          "execution_count": 146
        }
      ]
    },
    {
      "cell_type": "code",
      "metadata": {
        "id": "tTUtkkmeQCrf",
        "colab": {
          "base_uri": "https://localhost:8080/"
        },
        "outputId": "c33eaa94-bdae-4e19-ed7f-e13112a33278"
      },
      "source": [
        "train_df.info()"
      ],
      "execution_count": null,
      "outputs": [
        {
          "output_type": "stream",
          "name": "stdout",
          "text": [
            "<class 'pandas.core.frame.DataFrame'>\n",
            "RangeIndex: 1490 entries, 0 to 1489\n",
            "Data columns (total 10 columns):\n",
            " #   Column               Non-Null Count  Dtype \n",
            "---  ------               --------------  ----- \n",
            " 0   Customer             1490 non-null   int64 \n",
            " 1   Age                  1490 non-null   int64 \n",
            " 2   Employment Type      1490 non-null   object\n",
            " 3   GraduateOrNot        1490 non-null   object\n",
            " 4   AnnualIncome         1490 non-null   int64 \n",
            " 5   FamilyMembers        1490 non-null   int64 \n",
            " 6   ChronicDiseases      1490 non-null   int64 \n",
            " 7   FrequentFlyer        1490 non-null   object\n",
            " 8   EverTravelledAbroad  1490 non-null   object\n",
            " 9   TravelInsurance      1490 non-null   int64 \n",
            "dtypes: int64(6), object(4)\n",
            "memory usage: 116.5+ KB\n"
          ]
        }
      ]
    },
    {
      "cell_type": "code",
      "metadata": {
        "id": "BqYPWESXQjnd",
        "colab": {
          "base_uri": "https://localhost:8080/"
        },
        "outputId": "47553e6a-ebff-4535-eb07-32c59f7c344e"
      },
      "source": [
        "test_df.info()"
      ],
      "execution_count": null,
      "outputs": [
        {
          "output_type": "stream",
          "name": "stdout",
          "text": [
            "<class 'pandas.core.frame.DataFrame'>\n",
            "RangeIndex: 497 entries, 0 to 496\n",
            "Data columns (total 9 columns):\n",
            " #   Column               Non-Null Count  Dtype \n",
            "---  ------               --------------  ----- \n",
            " 0   Customer             497 non-null    int64 \n",
            " 1   Age                  497 non-null    int64 \n",
            " 2   Employment Type      497 non-null    object\n",
            " 3   GraduateOrNot        497 non-null    object\n",
            " 4   AnnualIncome         497 non-null    int64 \n",
            " 5   FamilyMembers        497 non-null    int64 \n",
            " 6   ChronicDiseases      497 non-null    int64 \n",
            " 7   FrequentFlyer        497 non-null    object\n",
            " 8   EverTravelledAbroad  497 non-null    object\n",
            "dtypes: int64(5), object(4)\n",
            "memory usage: 35.1+ KB\n"
          ]
        }
      ]
    },
    {
      "cell_type": "markdown",
      "metadata": {
        "id": "Ysvc7IwzbR3g"
      },
      "source": [
        "## Exploratory Data Analysis (EDA)"
      ]
    },
    {
      "cell_type": "markdown",
      "metadata": {
        "id": "FMqutzmXel01"
      },
      "source": [
        "Observamos la distribución del target para ver si se encuentran desbalanceados."
      ]
    },
    {
      "cell_type": "code",
      "metadata": {
        "id": "rTnqIg8EUtZw",
        "colab": {
          "base_uri": "https://localhost:8080/"
        },
        "outputId": "bee7c7c2-ec3c-40f8-ca7d-0649f5daaf90"
      },
      "source": [
        "count_0 = len(train_df[train_df['TravelInsurance']==0])\n",
        "count_1 = len(train_df[train_df['TravelInsurance']==1])\n",
        "print(f\"Cant. clase 0: {count_0}, Cant. clase 1: {count_1}\")\n",
        "print(f\"Proporción: {count_0 / count_1}\")"
      ],
      "execution_count": null,
      "outputs": [
        {
          "output_type": "stream",
          "name": "stdout",
          "text": [
            "Cant. clase 0: 958, Cant. clase 1: 532\n",
            "Proporción: 1.800751879699248\n"
          ]
        }
      ]
    },
    {
      "cell_type": "markdown",
      "metadata": {
        "id": "XaYeiUbWGArx"
      },
      "source": [
        "Vemos que el dataset se encuentra descalanceado en una proporción de 1.8, siendo 0, la clase mayoritaria."
      ]
    },
    {
      "cell_type": "code",
      "metadata": {
        "id": "l5Nbb6R63vW2",
        "colab": {
          "base_uri": "https://localhost:8080/",
          "height": 300
        },
        "outputId": "aad4dab7-0ae9-4d2e-be7a-794f69028ddd"
      },
      "source": [
        "train_df.describe()"
      ],
      "execution_count": null,
      "outputs": [
        {
          "output_type": "execute_result",
          "data": {
            "text/html": [
              "<div>\n",
              "<style scoped>\n",
              "    .dataframe tbody tr th:only-of-type {\n",
              "        vertical-align: middle;\n",
              "    }\n",
              "\n",
              "    .dataframe tbody tr th {\n",
              "        vertical-align: top;\n",
              "    }\n",
              "\n",
              "    .dataframe thead th {\n",
              "        text-align: right;\n",
              "    }\n",
              "</style>\n",
              "<table border=\"1\" class=\"dataframe\">\n",
              "  <thead>\n",
              "    <tr style=\"text-align: right;\">\n",
              "      <th></th>\n",
              "      <th>Customer</th>\n",
              "      <th>Age</th>\n",
              "      <th>AnnualIncome</th>\n",
              "      <th>FamilyMembers</th>\n",
              "      <th>ChronicDiseases</th>\n",
              "      <th>TravelInsurance</th>\n",
              "    </tr>\n",
              "  </thead>\n",
              "  <tbody>\n",
              "    <tr>\n",
              "      <th>count</th>\n",
              "      <td>1490.000000</td>\n",
              "      <td>1490.000000</td>\n",
              "      <td>1.490000e+03</td>\n",
              "      <td>1490.000000</td>\n",
              "      <td>1490.000000</td>\n",
              "      <td>1490.000000</td>\n",
              "    </tr>\n",
              "    <tr>\n",
              "      <th>mean</th>\n",
              "      <td>745.500000</td>\n",
              "      <td>29.667114</td>\n",
              "      <td>9.278188e+05</td>\n",
              "      <td>4.777181</td>\n",
              "      <td>0.275839</td>\n",
              "      <td>0.357047</td>\n",
              "    </tr>\n",
              "    <tr>\n",
              "      <th>std</th>\n",
              "      <td>430.270264</td>\n",
              "      <td>2.880994</td>\n",
              "      <td>3.811715e+05</td>\n",
              "      <td>1.640248</td>\n",
              "      <td>0.447086</td>\n",
              "      <td>0.479290</td>\n",
              "    </tr>\n",
              "    <tr>\n",
              "      <th>min</th>\n",
              "      <td>1.000000</td>\n",
              "      <td>25.000000</td>\n",
              "      <td>3.000000e+05</td>\n",
              "      <td>2.000000</td>\n",
              "      <td>0.000000</td>\n",
              "      <td>0.000000</td>\n",
              "    </tr>\n",
              "    <tr>\n",
              "      <th>25%</th>\n",
              "      <td>373.250000</td>\n",
              "      <td>28.000000</td>\n",
              "      <td>6.000000e+05</td>\n",
              "      <td>4.000000</td>\n",
              "      <td>0.000000</td>\n",
              "      <td>0.000000</td>\n",
              "    </tr>\n",
              "    <tr>\n",
              "      <th>50%</th>\n",
              "      <td>745.500000</td>\n",
              "      <td>29.000000</td>\n",
              "      <td>9.000000e+05</td>\n",
              "      <td>5.000000</td>\n",
              "      <td>0.000000</td>\n",
              "      <td>0.000000</td>\n",
              "    </tr>\n",
              "    <tr>\n",
              "      <th>75%</th>\n",
              "      <td>1117.750000</td>\n",
              "      <td>32.000000</td>\n",
              "      <td>1.250000e+06</td>\n",
              "      <td>6.000000</td>\n",
              "      <td>1.000000</td>\n",
              "      <td>1.000000</td>\n",
              "    </tr>\n",
              "    <tr>\n",
              "      <th>max</th>\n",
              "      <td>1490.000000</td>\n",
              "      <td>35.000000</td>\n",
              "      <td>1.800000e+06</td>\n",
              "      <td>9.000000</td>\n",
              "      <td>1.000000</td>\n",
              "      <td>1.000000</td>\n",
              "    </tr>\n",
              "  </tbody>\n",
              "</table>\n",
              "</div>"
            ],
            "text/plain": [
              "          Customer          Age  ...  ChronicDiseases  TravelInsurance\n",
              "count  1490.000000  1490.000000  ...      1490.000000      1490.000000\n",
              "mean    745.500000    29.667114  ...         0.275839         0.357047\n",
              "std     430.270264     2.880994  ...         0.447086         0.479290\n",
              "min       1.000000    25.000000  ...         0.000000         0.000000\n",
              "25%     373.250000    28.000000  ...         0.000000         0.000000\n",
              "50%     745.500000    29.000000  ...         0.000000         0.000000\n",
              "75%    1117.750000    32.000000  ...         1.000000         1.000000\n",
              "max    1490.000000    35.000000  ...         1.000000         1.000000\n",
              "\n",
              "[8 rows x 6 columns]"
            ]
          },
          "metadata": {},
          "execution_count": 150
        }
      ]
    },
    {
      "cell_type": "code",
      "metadata": {
        "id": "jrx0sI6a3zeD",
        "colab": {
          "base_uri": "https://localhost:8080/",
          "height": 300
        },
        "outputId": "c1d4cece-b232-46fe-8931-19af0d083fb4"
      },
      "source": [
        "test_df.describe()"
      ],
      "execution_count": null,
      "outputs": [
        {
          "output_type": "execute_result",
          "data": {
            "text/html": [
              "<div>\n",
              "<style scoped>\n",
              "    .dataframe tbody tr th:only-of-type {\n",
              "        vertical-align: middle;\n",
              "    }\n",
              "\n",
              "    .dataframe tbody tr th {\n",
              "        vertical-align: top;\n",
              "    }\n",
              "\n",
              "    .dataframe thead th {\n",
              "        text-align: right;\n",
              "    }\n",
              "</style>\n",
              "<table border=\"1\" class=\"dataframe\">\n",
              "  <thead>\n",
              "    <tr style=\"text-align: right;\">\n",
              "      <th></th>\n",
              "      <th>Customer</th>\n",
              "      <th>Age</th>\n",
              "      <th>AnnualIncome</th>\n",
              "      <th>FamilyMembers</th>\n",
              "      <th>ChronicDiseases</th>\n",
              "    </tr>\n",
              "  </thead>\n",
              "  <tbody>\n",
              "    <tr>\n",
              "      <th>count</th>\n",
              "      <td>497.000000</td>\n",
              "      <td>497.000000</td>\n",
              "      <td>4.970000e+02</td>\n",
              "      <td>497.00000</td>\n",
              "      <td>497.000000</td>\n",
              "    </tr>\n",
              "    <tr>\n",
              "      <th>mean</th>\n",
              "      <td>1739.000000</td>\n",
              "      <td>29.599598</td>\n",
              "      <td>9.475855e+05</td>\n",
              "      <td>4.68008</td>\n",
              "      <td>0.283702</td>\n",
              "    </tr>\n",
              "    <tr>\n",
              "      <th>std</th>\n",
              "      <td>143.615807</td>\n",
              "      <td>3.010506</td>\n",
              "      <td>3.635818e+05</td>\n",
              "      <td>1.51347</td>\n",
              "      <td>0.451248</td>\n",
              "    </tr>\n",
              "    <tr>\n",
              "      <th>min</th>\n",
              "      <td>1491.000000</td>\n",
              "      <td>25.000000</td>\n",
              "      <td>3.000000e+05</td>\n",
              "      <td>2.00000</td>\n",
              "      <td>0.000000</td>\n",
              "    </tr>\n",
              "    <tr>\n",
              "      <th>25%</th>\n",
              "      <td>1615.000000</td>\n",
              "      <td>28.000000</td>\n",
              "      <td>6.500000e+05</td>\n",
              "      <td>4.00000</td>\n",
              "      <td>0.000000</td>\n",
              "    </tr>\n",
              "    <tr>\n",
              "      <th>50%</th>\n",
              "      <td>1739.000000</td>\n",
              "      <td>29.000000</td>\n",
              "      <td>9.500000e+05</td>\n",
              "      <td>4.00000</td>\n",
              "      <td>0.000000</td>\n",
              "    </tr>\n",
              "    <tr>\n",
              "      <th>75%</th>\n",
              "      <td>1863.000000</td>\n",
              "      <td>32.000000</td>\n",
              "      <td>1.250000e+06</td>\n",
              "      <td>6.00000</td>\n",
              "      <td>1.000000</td>\n",
              "    </tr>\n",
              "    <tr>\n",
              "      <th>max</th>\n",
              "      <td>1987.000000</td>\n",
              "      <td>35.000000</td>\n",
              "      <td>1.750000e+06</td>\n",
              "      <td>9.00000</td>\n",
              "      <td>1.000000</td>\n",
              "    </tr>\n",
              "  </tbody>\n",
              "</table>\n",
              "</div>"
            ],
            "text/plain": [
              "          Customer         Age  AnnualIncome  FamilyMembers  ChronicDiseases\n",
              "count   497.000000  497.000000  4.970000e+02      497.00000       497.000000\n",
              "mean   1739.000000   29.599598  9.475855e+05        4.68008         0.283702\n",
              "std     143.615807    3.010506  3.635818e+05        1.51347         0.451248\n",
              "min    1491.000000   25.000000  3.000000e+05        2.00000         0.000000\n",
              "25%    1615.000000   28.000000  6.500000e+05        4.00000         0.000000\n",
              "50%    1739.000000   29.000000  9.500000e+05        4.00000         0.000000\n",
              "75%    1863.000000   32.000000  1.250000e+06        6.00000         1.000000\n",
              "max    1987.000000   35.000000  1.750000e+06        9.00000         1.000000"
            ]
          },
          "metadata": {},
          "execution_count": 151
        }
      ]
    },
    {
      "cell_type": "markdown",
      "metadata": {
        "id": "uWGiYuTr37MM"
      },
      "source": [
        "**Observaciones**:\n",
        "- El rango de edad se encuentra entre los 25 y los 35 años.\n",
        "- La cantidad de familiares se encuentra entre 2 y 9.\n",
        "- No hay mucha variación en los datos."
      ]
    },
    {
      "cell_type": "markdown",
      "metadata": {
        "id": "gdZjj3B15Tsf"
      },
      "source": [
        "La columna `Customer` será descartada para el modelo ya que no es relevante."
      ]
    },
    {
      "cell_type": "code",
      "metadata": {
        "id": "LwAbmeiQhWCY"
      },
      "source": [
        "train_df.drop(columns=[\"Customer\"], inplace=True)"
      ],
      "execution_count": null,
      "outputs": []
    },
    {
      "cell_type": "markdown",
      "metadata": {
        "id": "Cub5YQNvxWFU"
      },
      "source": [
        "Definimos algunas funciones auxiliares."
      ]
    },
    {
      "cell_type": "code",
      "metadata": {
        "id": "659axF_Cm5IH"
      },
      "source": [
        "def prop_plot(df, col):\n",
        "    \"\"\"Gráfico de barras para observar la proporción de la clase\n",
        "    TravelInsurance por bin.\n",
        "    \"\"\"\n",
        "    seaborn.barplot(\n",
        "        data=df[df['TravelInsurance'] == 1], \n",
        "        x=col, \n",
        "        y='total',\n",
        "        color='dodgerblue',\n",
        "        label='No'\n",
        "    )\n",
        "    seaborn.barplot(\n",
        "        data=df[df['TravelInsurance'] == 1], \n",
        "        x=col, \n",
        "        y='TravelInsurancePercent',\n",
        "        color='orange',\n",
        "        label='Sí'\n",
        "    )"
      ],
      "execution_count": null,
      "outputs": []
    },
    {
      "cell_type": "markdown",
      "metadata": {
        "id": "XNu51jQx4AEg"
      },
      "source": [
        "### Análisis de variables numéricas\n",
        "Vemos la relación entre las variables numéricas discriminadas por el target."
      ]
    },
    {
      "cell_type": "code",
      "metadata": {
        "id": "1pUtBsga4Jfc",
        "colab": {
          "base_uri": "https://localhost:8080/",
          "height": 568
        },
        "outputId": "541dede1-61f0-4c13-84f9-1b34bc1c092b"
      },
      "source": [
        "seaborn.pairplot(\n",
        "    train_df[[\"Age\", \"FamilyMembers\", \"AnnualIncome\", \"TravelInsurance\"]], \n",
        "    hue=\"TravelInsurance\"\n",
        ")"
      ],
      "execution_count": null,
      "outputs": [
        {
          "output_type": "execute_result",
          "data": {
            "text/plain": [
              "<seaborn.axisgrid.PairGrid at 0x7f41cea43d10>"
            ]
          },
          "metadata": {},
          "execution_count": 154
        },
        {
          "output_type": "display_data",
          "data": {
            "image/png": "[encoded data removed]",
            "text/plain": [
              "<Figure size 626.75x540 with 12 Axes>"
            ]
          },
          "metadata": {
            "needs_background": "light"
          }
        }
      ]
    },
    {
      "cell_type": "markdown",
      "metadata": {
        "id": "bxCJ-F_lzK31"
      },
      "source": [
        "- A primera vista la variable `AnnualIncome` parece influir fuertemente en la contratación del seguro.\n",
        "- Se puede observar que aquellas personas que tienen un sueldo elevado, tienen menor cantidad de familiares.\n",
        "- Parece verse que algunas personas más jóvenes (25 años) cobran sueldos muy altos, mientras que personas de mayor edad (35 años) no sobrepasan los 1.250.000 anual."
      ]
    },
    {
      "cell_type": "markdown",
      "metadata": {
        "id": "-O6YbO10muWq"
      },
      "source": [
        "#### `Age`\n",
        "Observamos la proporción de contratación de seguros por edad."
      ]
    },
    {
      "cell_type": "code",
      "metadata": {
        "colab": {
          "base_uri": "https://localhost:8080/",
          "height": 279
        },
        "id": "E_JORKnKmVsZ",
        "outputId": "ab135bc0-056c-44c7-a2ce-1a38bd424dfc"
      },
      "source": [
        "age = train_df\\\n",
        "    .groupby('Age')['TravelInsurance']\\\n",
        "    .value_counts(normalize=True)\\\n",
        "    .rename('TravelInsurancePercent')\\\n",
        "    .reset_index()\n",
        "age['total'] = 1\n",
        "prop_plot(age, 'Age')"
      ],
      "execution_count": null,
      "outputs": [
        {
          "output_type": "display_data",
          "data": {
            "image/png": "[encoded data removed]",
            "text/plain": [
              "<Figure size 432x288 with 1 Axes>"
            ]
          },
          "metadata": {
            "needs_background": "light"
          }
        }
      ]
    },
    {
      "cell_type": "markdown",
      "metadata": {
        "id": "5BFeDwQXr4p9"
      },
      "source": [
        "Se puede ver que los usuarios de los extremos tienden a contratar el seguro respecto al resto de las edades observadas. Pareciera ser una variable candidata para entrenar el modelo."
      ]
    },
    {
      "cell_type": "markdown",
      "metadata": {
        "id": "uCYAlD_AnvXG"
      },
      "source": [
        "#### `FamilyMembers`\n",
        "Representa la cantidad de familiares de la persona que contrata el seguro."
      ]
    },
    {
      "cell_type": "code",
      "metadata": {
        "colab": {
          "base_uri": "https://localhost:8080/",
          "height": 279
        },
        "id": "ooRd5sUmnz86",
        "outputId": "8160e5c2-9c00-4d69-9a61-249e3e8c9c5d"
      },
      "source": [
        "FamilyMembers = train_df\\\n",
        "    .groupby('FamilyMembers')['TravelInsurance']\\\n",
        "    .value_counts(normalize=True)\\\n",
        "    .rename('TravelInsurancePercent')\\\n",
        "    .reset_index()\n",
        "FamilyMembers['total'] = 1\n",
        "prop_plot(FamilyMembers, 'FamilyMembers')"
      ],
      "execution_count": null,
      "outputs": [
        {
          "output_type": "display_data",
          "data": {
            "image/png": "[encoded data removed]",
            "text/plain": [
              "<Figure size 432x288 with 1 Axes>"
            ]
          },
          "metadata": {
            "needs_background": "light"
          }
        }
      ]
    },
    {
      "cell_type": "markdown",
      "metadata": {
        "id": "UKI_FGuJvb9g"
      },
      "source": [
        "Se puede observar una leve tendencia a contratar el seguro según la cantidad de familiares."
      ]
    },
    {
      "cell_type": "markdown",
      "metadata": {
        "id": "kJ8gejsbtuO8"
      },
      "source": [
        "#### `AnnualIncome`\n",
        "Representa el ingreso anual del usuario."
      ]
    },
    {
      "cell_type": "code",
      "metadata": {
        "colab": {
          "base_uri": "https://localhost:8080/",
          "height": 313
        },
        "id": "t4nbmd4HtnCJ",
        "outputId": "265c9f6a-5cff-489c-9019-1ffb167c5f77"
      },
      "source": [
        "AnnualIncome = train_df\\\n",
        "    .groupby('AnnualIncome')['TravelInsurance']\\\n",
        "    .value_counts(normalize=True)\\\n",
        "    .rename('TravelInsurancePercent')\\\n",
        "    .reset_index()\n",
        "AnnualIncome['total'] = 1\n",
        "\n",
        "plt.xticks(rotation=90)\n",
        "prop_plot(AnnualIncome, 'AnnualIncome')"
      ],
      "execution_count": null,
      "outputs": [
        {
          "output_type": "display_data",
          "data": {
            "image/png": "[encoded data removed]",
            "text/plain": [
              "<Figure size 432x288 with 1 Axes>"
            ]
          },
          "metadata": {
            "needs_background": "light"
          }
        }
      ]
    },
    {
      "cell_type": "markdown",
      "metadata": {
        "id": "g8nwhQmlwBVe"
      },
      "source": [
        "Vemos una relación muy marcada entre el ingreso del usuario y la contratación del seguro. Se observa un aumento considerable en la proporción cuando el salario anual supera los 130k."
      ]
    },
    {
      "cell_type": "markdown",
      "metadata": {
        "id": "wmmhkS9K4mpC"
      },
      "source": [
        "### Análisis de variables categóricas\n",
        "Analizamos la proporción de personas que contratan el seguro según las categorías definidas."
      ]
    },
    {
      "cell_type": "markdown",
      "metadata": {
        "id": "qIUzXpoo4vnb"
      },
      "source": [
        "#### `GraduateOrNot`\n",
        "Esta variable hacer referencia a si la persona se ha graduado o no de la universidad."
      ]
    },
    {
      "cell_type": "code",
      "metadata": {
        "id": "SRe8cIZ948q6",
        "colab": {
          "base_uri": "https://localhost:8080/",
          "height": 297
        },
        "outputId": "22433b8a-8daf-407b-d929-4b2e80320d5b"
      },
      "source": [
        "seaborn.heatmap(\n",
        "    pd.crosstab(\n",
        "        train_df['TravelInsurance'], train_df[\"GraduateOrNot\"], \n",
        "        normalize='columns'\n",
        "    ), \n",
        "    annot=True\n",
        ")"
      ],
      "execution_count": null,
      "outputs": [
        {
          "output_type": "execute_result",
          "data": {
            "text/plain": [
              "<matplotlib.axes._subplots.AxesSubplot at 0x7f41ce535490>"
            ]
          },
          "metadata": {},
          "execution_count": 158
        },
        {
          "output_type": "display_data",
          "data": {
            "image/png": "[encoded data removed]",
            "text/plain": [
              "<Figure size 432x288 with 2 Axes>"
            ]
          },
          "metadata": {
            "needs_background": "light"
          }
        }
      ]
    },
    {
      "cell_type": "markdown",
      "metadata": {
        "id": "FBQDBMrc5ENw"
      },
      "source": [
        "No vemos diferencias entre graduados y no graduados respecto a la contratación de seguros. Tantos en unos como otros, sólo el 36% de ellos, lo contratan. Sería una variable que podría no incluirse en el modelo."
      ]
    },
    {
      "cell_type": "markdown",
      "metadata": {
        "id": "lvu9y1ux5IID"
      },
      "source": [
        "#### `FrequentFlyer`\n",
        "Esta variable nos indica si la persona viaja frecuentemente o no."
      ]
    },
    {
      "cell_type": "code",
      "metadata": {
        "id": "YMEcyhSv5HmX",
        "colab": {
          "base_uri": "https://localhost:8080/",
          "height": 300
        },
        "outputId": "62b54274-8d82-4321-f9bf-49e9077479fd"
      },
      "source": [
        "seaborn.heatmap(\n",
        "    pd.crosstab(\n",
        "        train_df['TravelInsurance'], train_df[\"FrequentFlyer\"], \n",
        "        normalize='columns'\n",
        "    ), \n",
        "    annot=True\n",
        ")"
      ],
      "execution_count": null,
      "outputs": [
        {
          "output_type": "execute_result",
          "data": {
            "text/plain": [
              "<matplotlib.axes._subplots.AxesSubplot at 0x7f41ce80dd50>"
            ]
          },
          "metadata": {},
          "execution_count": 159
        },
        {
          "output_type": "display_data",
          "data": {
            "image/png": "[encoded data removed]",
            "text/plain": [
              "<Figure size 432x288 with 2 Axes>"
            ]
          },
          "metadata": {
            "needs_background": "light"
          }
        }
      ]
    },
    {
      "cell_type": "markdown",
      "metadata": {
        "id": "-qfyDP975qve"
      },
      "source": [
        "En el caso de esta variable, sí vemos cierta asociación. \n",
        "Entre los que viajan de forma frecuente, un 57% contratan seguro; mientras que dentro de los que no viajan de forma frecuente, sólo el 30% lo contratan. Esta variable consideramos que debemos incluirla en el modelo."
      ]
    },
    {
      "cell_type": "markdown",
      "metadata": {
        "id": "BTFDfWpx5vHd"
      },
      "source": [
        "#### `EverTravelledAbroad`\n",
        "Indica si la persona alguna vez ha viajado al exterior."
      ]
    },
    {
      "cell_type": "code",
      "metadata": {
        "id": "nrY3EcUZ6eg9",
        "colab": {
          "base_uri": "https://localhost:8080/",
          "height": 297
        },
        "outputId": "e7cab340-dfad-43ee-c494-ca7e26ea29e7"
      },
      "source": [
        "seaborn.heatmap(\n",
        "    pd.crosstab(\n",
        "        train_df['TravelInsurance'], train_df[\"EverTravelledAbroad\"],\n",
        "        normalize='columns'\n",
        "    ), \n",
        "    annot=True\n",
        ")"
      ],
      "execution_count": null,
      "outputs": [
        {
          "output_type": "execute_result",
          "data": {
            "text/plain": [
              "<matplotlib.axes._subplots.AxesSubplot at 0x7f41ce359a10>"
            ]
          },
          "metadata": {},
          "execution_count": 160
        },
        {
          "output_type": "display_data",
          "data": {
            "image/png": "[encoded data removed]",
            "text/plain": [
              "<Figure size 432x288 with 2 Axes>"
            ]
          },
          "metadata": {
            "needs_background": "light"
          }
        }
      ]
    },
    {
      "cell_type": "markdown",
      "metadata": {
        "id": "a4z3plcr6lVV"
      },
      "source": [
        "De forma más marcada se ve relación entre la variable viaje al exterior y contratación de seguro. Debemos incluirla en el modelo."
      ]
    },
    {
      "cell_type": "markdown",
      "metadata": {
        "id": "kyTyEYvl6ml8"
      },
      "source": [
        "#### `Employment Type`\n",
        "Nos indica si la persona trabaja en el sector público o privado."
      ]
    },
    {
      "cell_type": "code",
      "metadata": {
        "id": "Pzj8pOtf6u-V",
        "colab": {
          "base_uri": "https://localhost:8080/",
          "height": 297
        },
        "outputId": "d616e2b9-ff80-49b5-b003-3e3f8c91bcf4"
      },
      "source": [
        "seaborn.heatmap(\n",
        "    pd.crosstab(\n",
        "        train_df['TravelInsurance'], train_df[\"Employment Type\"], \n",
        "        normalize='columns'\n",
        "    ), \n",
        "    annot=True\n",
        ")"
      ],
      "execution_count": null,
      "outputs": [
        {
          "output_type": "execute_result",
          "data": {
            "text/plain": [
              "<matplotlib.axes._subplots.AxesSubplot at 0x7f41ce06e710>"
            ]
          },
          "metadata": {},
          "execution_count": 161
        },
        {
          "output_type": "display_data",
          "data": {
            "image/png": "[encoded data removed]",
            "text/plain": [
              "<Figure size 432x288 with 2 Axes>"
            ]
          },
          "metadata": {
            "needs_background": "light"
          }
        }
      ]
    },
    {
      "cell_type": "markdown",
      "metadata": {
        "id": "PewCH9GoCCiC"
      },
      "source": [
        "Se puede observar que hay cierta influencia del tipo de empleo al momento de contratar un seguro o no. No hay evidente relacion entre las variables. Al tener variación deberíamos incluirla en el modelo."
      ]
    },
    {
      "cell_type": "markdown",
      "metadata": {
        "id": "ZJQnBU7x7BE4"
      },
      "source": [
        "#### `ChronicDiseases`\n",
        "Esta variable indica si la persona actualmente padece de alguna enfermedad crónica."
      ]
    },
    {
      "cell_type": "code",
      "metadata": {
        "id": "8MX_noHk7Lpm",
        "colab": {
          "base_uri": "https://localhost:8080/",
          "height": 297
        },
        "outputId": "154f7086-280d-4c19-af02-f36d771373ef"
      },
      "source": [
        "seaborn.heatmap(\n",
        "    pd.crosstab(\n",
        "        train_df['TravelInsurance'], train_df[\"ChronicDiseases\"], \n",
        "        normalize='columns'\n",
        "    ), \n",
        "    annot=True\n",
        ")"
      ],
      "execution_count": null,
      "outputs": [
        {
          "output_type": "execute_result",
          "data": {
            "text/plain": [
              "<matplotlib.axes._subplots.AxesSubplot at 0x7f41cd5e5a10>"
            ]
          },
          "metadata": {},
          "execution_count": 162
        },
        {
          "output_type": "display_data",
          "data": {
            "image/png": "[encoded data removed]",
            "text/plain": [
              "<Figure size 432x288 with 2 Axes>"
            ]
          },
          "metadata": {
            "needs_background": "light"
          }
        }
      ]
    },
    {
      "cell_type": "markdown",
      "metadata": {
        "id": "RSjdGzr87Szi"
      },
      "source": [
        "No se observa una relación directa con la contratación del seguro. No pareciera ser candidata a incluirla en el modelo. Ambos grupos se comportan de la misma manera."
      ]
    },
    {
      "cell_type": "markdown",
      "metadata": {
        "id": "kR1BmAW349eW"
      },
      "source": [
        "## Feature Engineering\n",
        "\n",
        "En esta etapa se realizaron las transformaciones necesarias para el entrenamiento. \n",
        "\n",
        "Si bien se probaron diferentes selecciones, extracciones y transformaciones, no se incluyeron muchas de éstas ya que no mejoraron los resultados."
      ]
    },
    {
      "cell_type": "markdown",
      "metadata": {
        "id": "mVNEFpdabyQg"
      },
      "source": [
        "### Separación del dataset\n",
        "Antes de realizar la exploración de los datos, dividimos nuestro dataset en conjunto de train y conjunto de test. El conjunto de test provisto como dataset originalmente, sólo será utilizado para realizar la predicción final."
      ]
    },
    {
      "cell_type": "code",
      "metadata": {
        "colab": {
          "base_uri": "https://localhost:8080/"
        },
        "id": "psHGOYQ1dxwA",
        "outputId": "ad03ce78-10f8-4b0d-bfbd-004b280877cd"
      },
      "source": [
        "X_train, X_val, y_train, y_val = train_test_split(\n",
        "    train_df.drop(columns=[\"TravelInsurance\"]), \n",
        "    train_df[\"TravelInsurance\"], \n",
        "    test_size=0.3, \n",
        "    random_state=42, \n",
        "    stratify=train_df[\"TravelInsurance\"]\n",
        ")\n",
        "X_train.shape, X_val.shape"
      ],
      "execution_count": null,
      "outputs": [
        {
          "output_type": "execute_result",
          "data": {
            "text/plain": [
              "((1043, 8), (447, 8))"
            ]
          },
          "metadata": {},
          "execution_count": 163
        }
      ]
    },
    {
      "cell_type": "markdown",
      "metadata": {
        "id": "09gfJrig1rTi"
      },
      "source": [
        "Observamos si se respeta la proporción"
      ]
    },
    {
      "cell_type": "code",
      "metadata": {
        "colab": {
          "base_uri": "https://localhost:8080/"
        },
        "id": "InEeGiZF4Vmc",
        "outputId": "3f516e59-1b85-40d2-d622-d81e13d54020"
      },
      "source": [
        "print(\"Proporción en datos de entrenamiento\")\n",
        "print(np.unique(y_train, return_counts=True))\n",
        "print(\"\")\n",
        "\n",
        "print(\"Proporción en datos de validación\")\n",
        "print(np.unique(y_val, return_counts=True))"
      ],
      "execution_count": null,
      "outputs": [
        {
          "output_type": "stream",
          "name": "stdout",
          "text": [
            "Proporción en datos de entrenamiento\n",
            "(array([0, 1]), array([671, 372]))\n",
            "\n",
            "Proporción en datos de validación\n",
            "(array([0, 1]), array([287, 160]))\n"
          ]
        }
      ]
    },
    {
      "cell_type": "markdown",
      "metadata": {
        "id": "X8wW246RXDN3"
      },
      "source": [
        "Las proporciones de 0 y 1 se siguen manteniendo en los nuevos conjuntos de train y val."
      ]
    },
    {
      "cell_type": "code",
      "metadata": {
        "id": "kn3lv3BXnOj6",
        "colab": {
          "base_uri": "https://localhost:8080/"
        },
        "outputId": "b166ba84-fccb-449d-a7a4-4651e68573d5"
      },
      "source": [
        "# Veamos la varianza de los datos en cada conjunto, para ver si hace falta escalar\n",
        "X_train.var(0)"
      ],
      "execution_count": null,
      "outputs": [
        {
          "output_type": "execute_result",
          "data": {
            "text/plain": [
              "Age                8.393647e+00\n",
              "AnnualIncome       1.452038e+11\n",
              "FamilyMembers      2.663719e+00\n",
              "ChronicDiseases    2.000725e-01\n",
              "dtype: float64"
            ]
          },
          "metadata": {},
          "execution_count": 165
        }
      ]
    },
    {
      "cell_type": "code",
      "metadata": {
        "id": "-g-ID9K0oV30",
        "colab": {
          "base_uri": "https://localhost:8080/"
        },
        "outputId": "6b5f1030-1278-432d-b287-47dd43578f09"
      },
      "source": [
        "# Veamos la varianza de los datos en cada conjunto, para ver si hace falta escalar\n",
        "X_val.var(0)"
      ],
      "execution_count": null,
      "outputs": [
        {
          "output_type": "execute_result",
          "data": {
            "text/plain": [
              "Age                8.043228e+00\n",
              "AnnualIncome       1.458188e+11\n",
              "FamilyMembers      2.757707e+00\n",
              "ChronicDiseases    1.998977e-01\n",
              "dtype: float64"
            ]
          },
          "metadata": {},
          "execution_count": 166
        }
      ]
    },
    {
      "cell_type": "markdown",
      "metadata": {
        "id": "nGiM5Cg3oeoO"
      },
      "source": [
        "Vemos que hay baja varianza, tanto en datos de entrenamiento, como en datos de validación."
      ]
    },
    {
      "cell_type": "markdown",
      "metadata": {
        "id": "rDhgMhhl5fYN"
      },
      "source": [
        "### Transformación de las columnas\n",
        "Se probaron diferentes estrategias de transformación de los datos, se dejan aquellos que han dado mejores resultados."
      ]
    },
    {
      "cell_type": "markdown",
      "metadata": {
        "id": "0jZNGeNs4Big"
      },
      "source": [
        "#### Transformación baseline"
      ]
    },
    {
      "cell_type": "code",
      "metadata": {
        "id": "uWGXcVmBpDC7"
      },
      "source": [
        "transformer = make_column_transformer(\n",
        "    (KBinsDiscretizer(n_bins=5, encode=\"ordinal\", strategy=\"quantile\"), [\"Age\", \"AnnualIncome\"]),\n",
        "    (OneHotEncoder(categories=\"auto\", dtype=\"int\", handle_unknown=\"ignore\"),\n",
        "     [\"Employment Type\", \"GraduateOrNot\", \"FamilyMembers\", \"FrequentFlyer\", \"EverTravelledAbroad\"]),\n",
        "    remainder=\"passthrough\")"
      ],
      "execution_count": null,
      "outputs": []
    },
    {
      "cell_type": "code",
      "metadata": {
        "id": "Z0yHjdJ35Kn_"
      },
      "source": [
        "X_train_t0 = transformer.fit_transform(X_train)\n",
        "X_val_t0 = transformer.transform(X_val)\n",
        "X_test_t0 = transformer.transform(test_df.drop(columns=[\"Customer\"]))"
      ],
      "execution_count": null,
      "outputs": []
    },
    {
      "cell_type": "markdown",
      "metadata": {
        "id": "WMJSmwUt4HLD"
      },
      "source": [
        "#### Transformación 1\n",
        "- Dejamos `Age` sin discretizar ya que los rangos de edades tanto en train como en test tienen poca varianza, van de 25 a 35.\n",
        "- Dejamos `FamilyMembers` como está ya que en train y test tiene la misma distribución y tiene muy poca varianza con valores entre 2 y 9.\n",
        "- Aumentamos la cantidad de bins de la discretización de `AnnualIncome` por presentar mayor varianza en el rango de datos."
      ]
    },
    {
      "cell_type": "code",
      "metadata": {
        "id": "dTam_G81qGE0"
      },
      "source": [
        "transformer1 = make_column_transformer(\n",
        "    (KBinsDiscretizer(n_bins=10, encode=\"ordinal\", strategy=\"quantile\"), [\"AnnualIncome\"]),\n",
        "    (OneHotEncoder(categories=\"auto\", dtype=\"int\", handle_unknown=\"ignore\"),\n",
        "     [\"Employment Type\", \"GraduateOrNot\", \"FrequentFlyer\", \"EverTravelledAbroad\"]),\n",
        "    remainder=\"passthrough\")"
      ],
      "execution_count": null,
      "outputs": []
    },
    {
      "cell_type": "code",
      "metadata": {
        "id": "kWsxolth5ZRP"
      },
      "source": [
        "X_train_t1 = transformer1.fit_transform(X_train)\n",
        "X_val_t1 = transformer1.transform(X_val)\n",
        "X_test_t1 = transformer1.transform(test_df.drop(columns=[\"Customer\"]))"
      ],
      "execution_count": null,
      "outputs": []
    },
    {
      "cell_type": "markdown",
      "metadata": {
        "id": "ZDrzFj9T4cIJ"
      },
      "source": [
        "#### Transformación 2\n",
        "\n",
        "- Discretizamos todas las variables numéricas \n",
        "- La edad vemos que no tiene una relación lineal respecto al target, por lo tanto probamos discretizarla de manera no ordinal."
      ]
    },
    {
      "cell_type": "code",
      "metadata": {
        "id": "G_qBpVD8G5B1"
      },
      "source": [
        "transformer2 = make_column_transformer(\n",
        "    (KBinsDiscretizer(n_bins=10, encode=\"onehot\", strategy=\"quantile\"), [\"AnnualIncome\"]),\n",
        "    (OneHotEncoder(categories=\"auto\", dtype=\"int\", handle_unknown=\"ignore\"),\n",
        "     [\"Employment Type\", \"GraduateOrNot\", \"Age\", \"FamilyMembers\", \"FrequentFlyer\", \"EverTravelledAbroad\"]),\n",
        "    remainder=\"passthrough\")"
      ],
      "execution_count": null,
      "outputs": []
    },
    {
      "cell_type": "code",
      "metadata": {
        "id": "XlAdkn_ojIJ4"
      },
      "source": [
        "X_train_t2 = transformer2.fit_transform(X_train)\n",
        "X_val_t2 = transformer2.transform(X_val)\n",
        "X_test_t2 = transformer2.transform(test_df.drop(columns=[\"Customer\"]))"
      ],
      "execution_count": null,
      "outputs": []
    },
    {
      "cell_type": "markdown",
      "metadata": {
        "id": "3ZVzHhOE5rx4"
      },
      "source": [
        "## Modelos\n",
        "\n",
        "En esta etapa realizamos el entrenamiento y la evaluación de los datos utilizando diferentes modelos.\n",
        "\n",
        "Primero observamos los resultados que se obtienen entrenando los tres conjuntos de datos transformados para cada modelo con parámetros por defecto como baseline.\n"
      ]
    },
    {
      "cell_type": "code",
      "metadata": {
        "id": "9o-4VJz46jdy",
        "colab": {
          "base_uri": "https://localhost:8080/",
          "height": 1000
        },
        "outputId": "c8fa38b1-7600-4554-e752-55b07dd21c5e"
      },
      "source": [
        "print('==========================================')\n",
        "print(' Modelos baseline')\n",
        "print('==========================================')\n",
        "results = {\n",
        "    'transformer0': [],\n",
        "    'transformer1': [],\n",
        "    'transformer2': []\n",
        "}\n",
        "models = []\n",
        "names = []\n",
        "\n",
        "models.append(('Decission Tree', DecisionTreeClassifier()))\n",
        "models.append(('XGBoost', XGBClassifier()))\n",
        "models.append(('LightGBM', LGBMClassifier())) \n",
        "models.append(('Support Vector', SVC()))\n",
        "models.append(('KNeighbors', KNeighborsClassifier())) \n",
        "models.append(('Gradient Boosting', GradientBoostingClassifier()))\n",
        "models.append(('Random Forest', RandomForestClassifier()))\n",
        "models.append(('CatBoost', CatBoostClassifier(verbose=0)))\n",
        "\n",
        "for name, model in models:\n",
        "    cv = StratifiedKFold()\n",
        "        \n",
        "    cv_results_t0 = cross_val_score(model, X_train_t0, y_train, cv=cv, scoring='f1')\n",
        "    cv_results_t1 = cross_val_score(model, X_train_t1, y_train, cv=cv, scoring='f1')\n",
        "    cv_results_t2 = cross_val_score(model, X_train_t2, y_train, cv=cv, scoring='f1')\n",
        "    \n",
        "    results['transformer0'].append(cv_results_t0) \n",
        "    results['transformer1'].append(cv_results_t1) \n",
        "    results['transformer2'].append(cv_results_t2) \n",
        "    names.append(name)\n",
        "\n",
        "    print('')\n",
        "    print(f'{name}')\n",
        "    print('==========================================')\n",
        "    print(f'T0: {cv_results_t0.mean()} ({cv_results_t0.std()})')\n",
        "    print(f'T1: {cv_results_t1.mean()} ({cv_results_t1.std()})')\n",
        "    print(f'T2: {cv_results_t2.mean()} ({cv_results_t2.std()})')\n",
        "\n",
        "print('')\n",
        "for i in range(3):\n",
        "    plt.boxplot(results[f'transformer{i}'], labels=names)\n",
        "    plt.title(f\"Distribución de f1 socre obtenidos por modelo, transformer{i}\")\n",
        "    plt.xticks(rotation=45)\n",
        "    plt.ylim(0.5, 1)\n",
        "    plt.show() \n",
        "print('')"
      ],
      "execution_count": null,
      "outputs": [
        {
          "output_type": "stream",
          "name": "stdout",
          "text": [
            "==========================================\n",
            " Modelos baseline\n",
            "==========================================\n",
            "\n",
            "Decission Tree\n",
            "==========================================\n",
            "T0: 0.6728775152800525 (0.05570303716071044)\n",
            "T1: 0.6549665101120885 (0.0602325958192206)\n",
            "T2: 0.6657988809208322 (0.07030931481970402)\n",
            "\n",
            "XGBoost\n",
            "==========================================\n",
            "T0: 0.7152246079014023 (0.0567981575660944)\n",
            "T1: 0.7199663978868087 (0.061493800189002315)\n",
            "T2: 0.6890918078316547 (0.05182967562560824)\n",
            "\n",
            "LightGBM\n",
            "==========================================\n",
            "T0: 0.6998859813831388 (0.050005592408774474)\n",
            "T1: 0.7088646628938411 (0.05103451123134108)\n",
            "T2: 0.6837353019081914 (0.047842231620918746)\n",
            "\n",
            "Support Vector\n",
            "==========================================\n",
            "T0: 0.6059128812418539 (0.045493740645545205)\n",
            "T1: 0.6112370476355249 (0.05856231837449838)\n",
            "T2: 0.6764318916358476 (0.05469748344299393)\n",
            "\n",
            "KNeighbors\n",
            "==========================================\n",
            "T0: 0.6599188071728553 (0.055812278103185446)\n",
            "T1: 0.6729720335212868 (0.04987605886943303)\n",
            "T2: 0.6567395724466308 (0.06314576703167779)\n",
            "\n",
            "Gradient Boosting\n",
            "==========================================\n",
            "T0: 0.7154576134880009 (0.0626391529121819)\n",
            "T1: 0.7151584093650522 (0.06458587497089163)\n",
            "T2: 0.6916201357230117 (0.06564325364173196)\n",
            "\n",
            "Random Forest\n",
            "==========================================\n",
            "T0: 0.6951020495608958 (0.04064045392552273)\n",
            "T1: 0.6795891690009336 (0.049165302138263395)\n",
            "T2: 0.6668743100757489 (0.05084147951261792)\n",
            "\n",
            "CatBoost\n",
            "==========================================\n",
            "T0: 0.7105486270634576 (0.04850660193665483)\n",
            "T1: 0.71146035134355 (0.05429752200807874)\n",
            "T2: 0.6823171662136428 (0.060945642232989074)\n",
            "\n"
          ]
        },
        {
          "output_type": "display_data",
          "data": {
            "image/png": "[encoded data removed]",
            "text/plain": [
              "<Figure size 432x288 with 1 Axes>"
            ]
          },
          "metadata": {
            "needs_background": "light"
          }
        },
        {
          "output_type": "display_data",
          "data": {
            "image/png": "[encoded data removed]",
            "text/plain": [
              "<Figure size 432x288 with 1 Axes>"
            ]
          },
          "metadata": {
            "needs_background": "light"
          }
        },
        {
          "output_type": "display_data",
          "data": {
            "image/png": "[encoded data removed]",
            "text/plain": [
              "<Figure size 432x288 with 1 Axes>"
            ]
          },
          "metadata": {
            "needs_background": "light"
          }
        },
        {
          "output_type": "stream",
          "name": "stdout",
          "text": [
            "\n"
          ]
        }
      ]
    },
    {
      "cell_type": "markdown",
      "metadata": {
        "id": "DbVlAeCj8p6k"
      },
      "source": [
        "Algunos modelos funcionan mejor para cierto tipo de transformaciones. Por ejemplo, algunas predicen mejor si las features son categóricas, en otras, si las features son numéricas. En base a los resultados observados en los gráficos anteriores se utilizan los conjuntos de datos transformados sobre cada modelo según correspondan.\n",
        "\n",
        "A continuación sólo se muestran aquellos modelos que mejores resultados dieron."
      ]
    },
    {
      "cell_type": "markdown",
      "metadata": {
        "id": "ikWGd-CgWeXJ"
      },
      "source": [
        "### Decision Tree Classifier"
      ]
    },
    {
      "cell_type": "code",
      "metadata": {
        "colab": {
          "base_uri": "https://localhost:8080/"
        },
        "id": "gLqOgMoxbV2r",
        "outputId": "0dc22070-4161-4384-d1d3-375feb2208ba"
      },
      "source": [
        "tree_model = DecisionTreeClassifier(random_state=42)\n",
        "tree_model.fit(X_train_t0, y_train)"
      ],
      "execution_count": null,
      "outputs": [
        {
          "output_type": "execute_result",
          "data": {
            "text/plain": [
              "DecisionTreeClassifier(ccp_alpha=0.0, class_weight=None, criterion='gini',\n",
              "                       max_depth=None, max_features=None, max_leaf_nodes=None,\n",
              "                       min_impurity_decrease=0.0, min_impurity_split=None,\n",
              "                       min_samples_leaf=1, min_samples_split=2,\n",
              "                       min_weight_fraction_leaf=0.0, presort='deprecated',\n",
              "                       random_state=42, splitter='best')"
            ]
          },
          "metadata": {},
          "execution_count": 174
        }
      ]
    },
    {
      "cell_type": "code",
      "metadata": {
        "colab": {
          "base_uri": "https://localhost:8080/"
        },
        "id": "fre34Dmbbnjo",
        "outputId": "f111594d-d505-4d2e-caac-f1b052d4ae9d"
      },
      "source": [
        "print(\"====================================================================\")\n",
        "print(\"DecissionTreeClassifier - Reporte de clasificación de train\")\n",
        "print(\"====================================================================\")\n",
        "print(classification_report(y_train, tree_model.predict(X_train_t0)))\n",
        "\n",
        "print(\"====================================================================\")\n",
        "print(\"DecissionTreeClassifier - Reporte de clasificación de val\")\n",
        "print(\"====================================================================\")\n",
        "print(classification_report(y_val, tree_model.predict(X_val_t0)))"
      ],
      "execution_count": null,
      "outputs": [
        {
          "output_type": "stream",
          "name": "stdout",
          "text": [
            "====================================================================\n",
            "DecissionTreeClassifier - Reporte de clasificación de train\n",
            "====================================================================\n",
            "              precision    recall  f1-score   support\n",
            "\n",
            "           0       0.89      0.99      0.93       671\n",
            "           1       0.97      0.77      0.86       372\n",
            "\n",
            "    accuracy                           0.91      1043\n",
            "   macro avg       0.93      0.88      0.90      1043\n",
            "weighted avg       0.92      0.91      0.91      1043\n",
            "\n",
            "====================================================================\n",
            "DecissionTreeClassifier - Reporte de clasificación de val\n",
            "====================================================================\n",
            "              precision    recall  f1-score   support\n",
            "\n",
            "           0       0.79      0.87      0.83       287\n",
            "           1       0.72      0.58      0.64       160\n",
            "\n",
            "    accuracy                           0.77       447\n",
            "   macro avg       0.76      0.73      0.74       447\n",
            "weighted avg       0.76      0.77      0.76       447\n",
            "\n"
          ]
        }
      ]
    },
    {
      "cell_type": "markdown",
      "metadata": {
        "id": "BNeLs1RsFpdU"
      },
      "source": [
        "#### Decision Tree Classifier con CrossValidation"
      ]
    },
    {
      "cell_type": "code",
      "metadata": {
        "id": "jhlIB-rjAMKF",
        "colab": {
          "base_uri": "https://localhost:8080/"
        },
        "outputId": "4a8a63c8-8031-4808-8f40-f4d659b82763"
      },
      "source": [
        "search_params = {\n",
        "    'criterion': ['gini', 'entropy'],\n",
        "    'min_samples_leaf': [1, 2, 5],\n",
        "    'max_depth': [3, 6, 10]\n",
        "}\n",
        "tree = DecisionTreeClassifier(random_state=42)\n",
        "tree_clf = GridSearchCV(tree, search_params, cv=5, scoring='f1', n_jobs=-1)\n",
        "tree_clf.fit(X_train_t0, y_train)\n",
        "\n",
        "best_tree_clf = tree_clf.best_estimator_\n",
        "tree_clf.best_params_"
      ],
      "execution_count": null,
      "outputs": [
        {
          "output_type": "execute_result",
          "data": {
            "text/plain": [
              "{'criterion': 'gini', 'max_depth': 10, 'min_samples_leaf': 5}"
            ]
          },
          "metadata": {},
          "execution_count": 176
        }
      ]
    },
    {
      "cell_type": "code",
      "metadata": {
        "id": "toa7_H5k_B8T",
        "colab": {
          "base_uri": "https://localhost:8080/"
        },
        "outputId": "3b457c93-7463-4f86-ee8a-16cc8437b409"
      },
      "source": [
        "print(\"====================================================================\")\n",
        "print(\"DecissionTreeClassifier - Reporte de clasificación de train\")\n",
        "print(\"====================================================================\")\n",
        "print(classification_report(y_train, best_tree_clf.predict(X_train_t0)))\n",
        "\n",
        "print(\"====================================================================\")\n",
        "print(\"DecissionTreeClassifier - Reporte de clasificación de val\")\n",
        "print(\"====================================================================\")\n",
        "print(classification_report(y_val, best_tree_clf.predict(X_val_t0)))"
      ],
      "execution_count": null,
      "outputs": [
        {
          "output_type": "stream",
          "name": "stdout",
          "text": [
            "====================================================================\n",
            "DecissionTreeClassifier - Reporte de clasificación de train\n",
            "====================================================================\n",
            "              precision    recall  f1-score   support\n",
            "\n",
            "           0       0.85      0.94      0.89       671\n",
            "           1       0.87      0.70      0.77       372\n",
            "\n",
            "    accuracy                           0.86      1043\n",
            "   macro avg       0.86      0.82      0.83      1043\n",
            "weighted avg       0.86      0.86      0.85      1043\n",
            "\n",
            "====================================================================\n",
            "DecissionTreeClassifier - Reporte de clasificación de val\n",
            "====================================================================\n",
            "              precision    recall  f1-score   support\n",
            "\n",
            "           0       0.80      0.87      0.84       287\n",
            "           1       0.73      0.61      0.67       160\n",
            "\n",
            "    accuracy                           0.78       447\n",
            "   macro avg       0.77      0.74      0.75       447\n",
            "weighted avg       0.78      0.78      0.78       447\n",
            "\n"
          ]
        }
      ]
    },
    {
      "cell_type": "markdown",
      "metadata": {
        "id": "voBMHhSqQ9LP"
      },
      "source": [
        "### XGBoost Classifier"
      ]
    },
    {
      "cell_type": "code",
      "metadata": {
        "id": "l9jW6YK4Xg0D",
        "colab": {
          "base_uri": "https://localhost:8080/"
        },
        "outputId": "efbc2702-aad1-49c0-9bd7-3c839ae29588"
      },
      "source": [
        "xgb_model = XGBClassifier(eval_metric='logloss', use_label_encoder=False)\n",
        "xgb_model.fit(X_train_t0, y_train)"
      ],
      "execution_count": null,
      "outputs": [
        {
          "output_type": "execute_result",
          "data": {
            "text/plain": [
              "XGBClassifier(base_score=0.5, booster='gbtree', colsample_bylevel=1,\n",
              "              colsample_bynode=1, colsample_bytree=1, eval_metric='logloss',\n",
              "              gamma=0, learning_rate=0.1, max_delta_step=0, max_depth=3,\n",
              "              min_child_weight=1, missing=None, n_estimators=100, n_jobs=1,\n",
              "              nthread=None, objective='binary:logistic', random_state=0,\n",
              "              reg_alpha=0, reg_lambda=1, scale_pos_weight=1, seed=None,\n",
              "              silent=None, subsample=1, use_label_encoder=False, verbosity=1)"
            ]
          },
          "metadata": {},
          "execution_count": 178
        }
      ]
    },
    {
      "cell_type": "code",
      "metadata": {
        "id": "x7iVqC02QpGx",
        "colab": {
          "base_uri": "https://localhost:8080/"
        },
        "outputId": "0e41b6d9-2220-407b-eaff-4d6fd5b56e84"
      },
      "source": [
        "print(\"====================================================================\")\n",
        "print(\"XGBoost Classifier - Reporte de clasificación de train\")\n",
        "print(\"====================================================================\")\n",
        "print(classification_report(y_train, xgb_model.predict(X_train_t0)))\n",
        "\n",
        "print(\"====================================================================\")\n",
        "print(\"XGBoost Classifier - Reporte de clasificación de val\")\n",
        "print(\"====================================================================\")\n",
        "print(classification_report(y_val, xgb_model.predict(X_val_t0)))"
      ],
      "execution_count": null,
      "outputs": [
        {
          "output_type": "stream",
          "name": "stdout",
          "text": [
            "====================================================================\n",
            "XGBoost Classifier - Reporte de clasificación de train\n",
            "====================================================================\n",
            "              precision    recall  f1-score   support\n",
            "\n",
            "           0       0.82      0.97      0.89       671\n",
            "           1       0.93      0.61      0.74       372\n",
            "\n",
            "    accuracy                           0.84      1043\n",
            "   macro avg       0.87      0.79      0.81      1043\n",
            "weighted avg       0.86      0.84      0.84      1043\n",
            "\n",
            "====================================================================\n",
            "XGBoost Classifier - Reporte de clasificación de val\n",
            "====================================================================\n",
            "              precision    recall  f1-score   support\n",
            "\n",
            "           0       0.80      0.94      0.86       287\n",
            "           1       0.83      0.57      0.68       160\n",
            "\n",
            "    accuracy                           0.81       447\n",
            "   macro avg       0.82      0.75      0.77       447\n",
            "weighted avg       0.81      0.81      0.79       447\n",
            "\n"
          ]
        }
      ]
    },
    {
      "cell_type": "markdown",
      "metadata": {
        "id": "O6vM5Tx9Q4gQ"
      },
      "source": [
        "#### XGBoost Classifier con StandardScaler"
      ]
    },
    {
      "cell_type": "code",
      "metadata": {
        "id": "tcZCce-hQpCu",
        "colab": {
          "base_uri": "https://localhost:8080/"
        },
        "outputId": "386b2215-850e-49df-f67d-99b0dce4a8b3"
      },
      "source": [
        "xgb_model_sc = make_pipeline(\n",
        "    StandardScaler(with_mean=False), \n",
        "    XGBClassifier(eval_metric='logloss', use_label_encoder=False)\n",
        ")\n",
        "xgb_model_sc.fit(X_train_t0, y_train)"
      ],
      "execution_count": null,
      "outputs": [
        {
          "output_type": "execute_result",
          "data": {
            "text/plain": [
              "Pipeline(memory=None,\n",
              "         steps=[('standardscaler',\n",
              "                 StandardScaler(copy=True, with_mean=False, with_std=True)),\n",
              "                ('xgbclassifier',\n",
              "                 XGBClassifier(base_score=0.5, booster='gbtree',\n",
              "                               colsample_bylevel=1, colsample_bynode=1,\n",
              "                               colsample_bytree=1, eval_metric='logloss',\n",
              "                               gamma=0, learning_rate=0.1, max_delta_step=0,\n",
              "                               max_depth=3, min_child_weight=1, missing=None,\n",
              "                               n_estimators=100, n_jobs=1, nthread=None,\n",
              "                               objective='binary:logistic', random_state=0,\n",
              "                               reg_alpha=0, reg_lambda=1, scale_pos_weight=1,\n",
              "                               seed=None, silent=None, subsample=1,\n",
              "                               use_label_encoder=False, verbosity=1))],\n",
              "         verbose=False)"
            ]
          },
          "metadata": {},
          "execution_count": 180
        }
      ]
    },
    {
      "cell_type": "code",
      "metadata": {
        "id": "2h2eHodZQkLH",
        "colab": {
          "base_uri": "https://localhost:8080/"
        },
        "outputId": "bceed736-5e56-4346-ca2b-16361f444343"
      },
      "source": [
        "print(\"====================================================================\")\n",
        "print(\"XGBoost Classifier con Std Scaler - Reporte de clasificación de train\")\n",
        "print(\"====================================================================\")\n",
        "print(classification_report(y_train, xgb_model_sc.predict(X_train_t0)))\n",
        "\n",
        "print(\"====================================================================\")\n",
        "print(\"XGBoost Classifier con Std Scaler - Reporte de clasificación de val\")\n",
        "print(\"====================================================================\")\n",
        "print(classification_report(y_val, xgb_model_sc.predict(X_val_t0)))"
      ],
      "execution_count": null,
      "outputs": [
        {
          "output_type": "stream",
          "name": "stdout",
          "text": [
            "====================================================================\n",
            "XGBoost Classifier con Std Scaler - Reporte de clasificación de train\n",
            "====================================================================\n",
            "              precision    recall  f1-score   support\n",
            "\n",
            "           0       0.82      0.97      0.89       671\n",
            "           1       0.93      0.61      0.74       372\n",
            "\n",
            "    accuracy                           0.84      1043\n",
            "   macro avg       0.87      0.79      0.81      1043\n",
            "weighted avg       0.86      0.84      0.84      1043\n",
            "\n",
            "====================================================================\n",
            "XGBoost Classifier con Std Scaler - Reporte de clasificación de val\n",
            "====================================================================\n",
            "              precision    recall  f1-score   support\n",
            "\n",
            "           0       0.80      0.94      0.86       287\n",
            "           1       0.83      0.57      0.68       160\n",
            "\n",
            "    accuracy                           0.81       447\n",
            "   macro avg       0.82      0.75      0.77       447\n",
            "weighted avg       0.81      0.81      0.79       447\n",
            "\n"
          ]
        }
      ]
    },
    {
      "cell_type": "markdown",
      "metadata": {
        "id": "QEE92KBhRamJ"
      },
      "source": [
        "#### XGBoost con CrossValidation"
      ]
    },
    {
      "cell_type": "code",
      "metadata": {
        "id": "GPD4KxtzRVjH",
        "colab": {
          "base_uri": "https://localhost:8080/"
        },
        "outputId": "f3d09c4a-911b-4303-d290-641f8985453d"
      },
      "source": [
        "param_grid = {\n",
        "    \"learning_rate\"    : [0.10, 0.20, 0.30] ,\n",
        "    \"max_depth\"        : [ 3, 6, 10],\n",
        "    \"min_child_weight\" : [ 1, 3],\n",
        "    \"gamma\"            : [ 0.0, 0.1, 0.2 ],\n",
        "    \"colsample_bytree\" : [ 0.3, 0.5 , 0.7],\n",
        "    'subsample': [0.6, 0.8, 1.0],\n",
        "    'alpha': (0.1, 10)\n",
        "}\n",
        "\n",
        "xgb = XGBClassifier(eval_metric='logloss', use_label_encoder=False, objective='binary:logistic')\n",
        "xgb_clf = GridSearchCV(xgb, param_grid, scoring='f1', n_jobs=-1, cv=3)\n",
        "xgb_clf.fit(X_train_t0, y_train)\n",
        "best_xgb_clf = xgb_clf.best_estimator_\n",
        "xgb_clf.best_params_"
      ],
      "execution_count": null,
      "outputs": [
        {
          "output_type": "execute_result",
          "data": {
            "text/plain": [
              "{'alpha': 0.1,\n",
              " 'colsample_bytree': 0.5,\n",
              " 'gamma': 0.2,\n",
              " 'learning_rate': 0.2,\n",
              " 'max_depth': 3,\n",
              " 'min_child_weight': 1,\n",
              " 'subsample': 1.0}"
            ]
          },
          "metadata": {},
          "execution_count": 182
        }
      ]
    },
    {
      "cell_type": "code",
      "metadata": {
        "id": "OLV8LTp3Qj18",
        "colab": {
          "base_uri": "https://localhost:8080/"
        },
        "outputId": "fc522544-84be-405f-ef44-830a0333c416"
      },
      "source": [
        "print(\"====================================================================\")\n",
        "print(\"XGBoost Classifier con CV - Reporte de clasificación de train\")\n",
        "print(\"====================================================================\")\n",
        "print(classification_report(y_train, best_xgb_clf.predict(X_train_t0)))\n",
        "\n",
        "print(\"====================================================================\")\n",
        "print(\"XGBoost Classifier con CV - Reporte de clasificación de val\")\n",
        "print(\"====================================================================\")\n",
        "print(classification_report(y_val, best_xgb_clf.predict(X_val_t0)))"
      ],
      "execution_count": null,
      "outputs": [
        {
          "output_type": "stream",
          "name": "stdout",
          "text": [
            "====================================================================\n",
            "XGBoost Classifier con CV - Reporte de clasificación de train\n",
            "====================================================================\n",
            "              precision    recall  f1-score   support\n",
            "\n",
            "           0       0.83      0.97      0.89       671\n",
            "           1       0.91      0.65      0.76       372\n",
            "\n",
            "    accuracy                           0.85      1043\n",
            "   macro avg       0.87      0.81      0.83      1043\n",
            "weighted avg       0.86      0.85      0.85      1043\n",
            "\n",
            "====================================================================\n",
            "XGBoost Classifier con CV - Reporte de clasificación de val\n",
            "====================================================================\n",
            "              precision    recall  f1-score   support\n",
            "\n",
            "           0       0.81      0.92      0.86       287\n",
            "           1       0.81      0.61      0.69       160\n",
            "\n",
            "    accuracy                           0.81       447\n",
            "   macro avg       0.81      0.76      0.78       447\n",
            "weighted avg       0.81      0.81      0.80       447\n",
            "\n"
          ]
        }
      ]
    },
    {
      "cell_type": "markdown",
      "metadata": {
        "id": "rIgDKYQyRJre"
      },
      "source": [
        "### LigthGBM Classifier"
      ]
    },
    {
      "cell_type": "code",
      "metadata": {
        "id": "ukhFjQAEQj73",
        "colab": {
          "base_uri": "https://localhost:8080/"
        },
        "outputId": "3f32ad34-fc57-4259-d318-c5ace19c96d5"
      },
      "source": [
        "lgbm_model = LGBMClassifier(is_unbalance=True)\n",
        "lgbm_model.fit(X_train_t0, y_train)"
      ],
      "execution_count": null,
      "outputs": [
        {
          "output_type": "execute_result",
          "data": {
            "text/plain": [
              "LGBMClassifier(boosting_type='gbdt', class_weight=None, colsample_bytree=1.0,\n",
              "               importance_type='split', is_unbalance=True, learning_rate=0.1,\n",
              "               max_depth=-1, min_child_samples=20, min_child_weight=0.001,\n",
              "               min_split_gain=0.0, n_estimators=100, n_jobs=-1, num_leaves=31,\n",
              "               objective=None, random_state=None, reg_alpha=0.0, reg_lambda=0.0,\n",
              "               silent=True, subsample=1.0, subsample_for_bin=200000,\n",
              "               subsample_freq=0)"
            ]
          },
          "metadata": {},
          "execution_count": 184
        }
      ]
    },
    {
      "cell_type": "code",
      "metadata": {
        "id": "cq_lTSV5Qj41",
        "colab": {
          "base_uri": "https://localhost:8080/"
        },
        "outputId": "597aec9b-521b-4dfa-b6b4-6e1edc6a9840"
      },
      "source": [
        "print(\"====================================================================\")\n",
        "print(\"LightGBM Classifier - Reporte de clasificación de train\")\n",
        "print(\"====================================================================\")\n",
        "print(classification_report(y_train, lgbm_model.predict(X_train_t0)))\n",
        "\n",
        "print(\"====================================================================\")\n",
        "print(\"LightGBM Classifier - Reporte de clasificación de val\")\n",
        "print(\"====================================================================\")\n",
        "print(classification_report(y_val, lgbm_model.predict(X_val_t0)))"
      ],
      "execution_count": null,
      "outputs": [
        {
          "output_type": "stream",
          "name": "stdout",
          "text": [
            "====================================================================\n",
            "LightGBM Classifier - Reporte de clasificación de train\n",
            "====================================================================\n",
            "              precision    recall  f1-score   support\n",
            "\n",
            "           0       0.90      0.93      0.91       671\n",
            "           1       0.86      0.81      0.83       372\n",
            "\n",
            "    accuracy                           0.89      1043\n",
            "   macro avg       0.88      0.87      0.87      1043\n",
            "weighted avg       0.89      0.89      0.88      1043\n",
            "\n",
            "====================================================================\n",
            "LightGBM Classifier - Reporte de clasificación de val\n",
            "====================================================================\n",
            "              precision    recall  f1-score   support\n",
            "\n",
            "           0       0.79      0.81      0.80       287\n",
            "           1       0.64      0.61      0.63       160\n",
            "\n",
            "    accuracy                           0.74       447\n",
            "   macro avg       0.72      0.71      0.71       447\n",
            "weighted avg       0.74      0.74      0.74       447\n",
            "\n"
          ]
        }
      ]
    },
    {
      "cell_type": "markdown",
      "metadata": {
        "id": "8c18j3NGRupa"
      },
      "source": [
        "### Support Vector Classifier"
      ]
    },
    {
      "cell_type": "markdown",
      "metadata": {
        "id": "-BFZ2fLMWKpq"
      },
      "source": [
        "#### Support Vector Classifier con StandarScaler"
      ]
    },
    {
      "cell_type": "code",
      "metadata": {
        "id": "JOz4cHaARr5y",
        "colab": {
          "base_uri": "https://localhost:8080/"
        },
        "outputId": "f4bceecb-55aa-453a-a8d0-15d8b7dfccfc"
      },
      "source": [
        "svc_model = make_pipeline(StandardScaler(with_mean=False), SVC(gamma='auto'))\n",
        "svc_model.fit(X_train_t0, y_train)"
      ],
      "execution_count": null,
      "outputs": [
        {
          "output_type": "execute_result",
          "data": {
            "text/plain": [
              "Pipeline(memory=None,\n",
              "         steps=[('standardscaler',\n",
              "                 StandardScaler(copy=True, with_mean=False, with_std=True)),\n",
              "                ('svc',\n",
              "                 SVC(C=1.0, break_ties=False, cache_size=200, class_weight=None,\n",
              "                     coef0=0.0, decision_function_shape='ovr', degree=3,\n",
              "                     gamma='auto', kernel='rbf', max_iter=-1, probability=False,\n",
              "                     random_state=None, shrinking=True, tol=0.001,\n",
              "                     verbose=False))],\n",
              "         verbose=False)"
            ]
          },
          "metadata": {},
          "execution_count": 186
        }
      ]
    },
    {
      "cell_type": "code",
      "metadata": {
        "id": "m5SFagmLR0uk",
        "colab": {
          "base_uri": "https://localhost:8080/"
        },
        "outputId": "dab741fe-222e-4b78-da11-6fdf5be9ab82"
      },
      "source": [
        "print(\"====================================================================\")\n",
        "print(\"SVC Classifier - Reporte de clasificación de train\")\n",
        "print(\"====================================================================\")\n",
        "print(classification_report(y_train, svc_model.predict(X_train_t0)))\n",
        "\n",
        "print(\"====================================================================\")\n",
        "print(\"SVC Classifier - Reporte de clasificación de val\")\n",
        "print(\"====================================================================\")\n",
        "print(classification_report(y_val, svc_model.predict(X_val_t0)))"
      ],
      "execution_count": null,
      "outputs": [
        {
          "output_type": "stream",
          "name": "stdout",
          "text": [
            "====================================================================\n",
            "SVC Classifier - Reporte de clasificación de train\n",
            "====================================================================\n",
            "              precision    recall  f1-score   support\n",
            "\n",
            "           0       0.82      0.96      0.88       671\n",
            "           1       0.89      0.62      0.73       372\n",
            "\n",
            "    accuracy                           0.84      1043\n",
            "   macro avg       0.85      0.79      0.80      1043\n",
            "weighted avg       0.84      0.84      0.83      1043\n",
            "\n",
            "====================================================================\n",
            "SVC Classifier - Reporte de clasificación de val\n",
            "====================================================================\n",
            "              precision    recall  f1-score   support\n",
            "\n",
            "           0       0.79      0.92      0.85       287\n",
            "           1       0.79      0.55      0.65       160\n",
            "\n",
            "    accuracy                           0.79       447\n",
            "   macro avg       0.79      0.73      0.75       447\n",
            "weighted avg       0.79      0.79      0.77       447\n",
            "\n"
          ]
        }
      ]
    },
    {
      "cell_type": "markdown",
      "metadata": {
        "id": "xTlD23fUR74a"
      },
      "source": [
        "### KNeighbors Classifier"
      ]
    },
    {
      "cell_type": "markdown",
      "metadata": {
        "id": "jWo_NWxdWByR"
      },
      "source": [
        "#### KNeighbors Classifier con StandarScaler"
      ]
    },
    {
      "cell_type": "code",
      "metadata": {
        "id": "mF8psmvgR0pU",
        "colab": {
          "base_uri": "https://localhost:8080/"
        },
        "outputId": "8bfebcc1-8261-4627-c51d-81383bc6c5ee"
      },
      "source": [
        "KNN_model = make_pipeline(\n",
        "    StandardScaler(with_mean=False), \n",
        "    KNeighborsClassifier(n_neighbors=3)\n",
        ")\n",
        "KNN_model.fit(X_train_t0, y_train)"
      ],
      "execution_count": null,
      "outputs": [
        {
          "output_type": "execute_result",
          "data": {
            "text/plain": [
              "Pipeline(memory=None,\n",
              "         steps=[('standardscaler',\n",
              "                 StandardScaler(copy=True, with_mean=False, with_std=True)),\n",
              "                ('kneighborsclassifier',\n",
              "                 KNeighborsClassifier(algorithm='auto', leaf_size=30,\n",
              "                                      metric='minkowski', metric_params=None,\n",
              "                                      n_jobs=None, n_neighbors=3, p=2,\n",
              "                                      weights='uniform'))],\n",
              "         verbose=False)"
            ]
          },
          "metadata": {},
          "execution_count": 188
        }
      ]
    },
    {
      "cell_type": "code",
      "metadata": {
        "id": "77ZEWo6bR0kf",
        "colab": {
          "base_uri": "https://localhost:8080/"
        },
        "outputId": "30be8a40-fe1e-45d2-8923-2e6987f2a43c"
      },
      "source": [
        "print(\"====================================================================\")\n",
        "print(\"KNeighbors Classifier - Reporte de clasificación de train\")\n",
        "print(\"====================================================================\")\n",
        "print(classification_report(y_train, KNN_model.predict(X_train_t0)))\n",
        "\n",
        "print(\"====================================================================\")\n",
        "print(\"KNeighbors Classifier - Reporte de clasificación de val\")\n",
        "print(\"====================================================================\")\n",
        "print(classification_report(y_val, KNN_model.predict(X_val_t0)))"
      ],
      "execution_count": null,
      "outputs": [
        {
          "output_type": "stream",
          "name": "stdout",
          "text": [
            "====================================================================\n",
            "KNeighbors Classifier - Reporte de clasificación de train\n",
            "====================================================================\n",
            "              precision    recall  f1-score   support\n",
            "\n",
            "           0       0.84      0.94      0.89       671\n",
            "           1       0.87      0.67      0.76       372\n",
            "\n",
            "    accuracy                           0.85      1043\n",
            "   macro avg       0.85      0.81      0.82      1043\n",
            "weighted avg       0.85      0.85      0.84      1043\n",
            "\n",
            "====================================================================\n",
            "KNeighbors Classifier - Reporte de clasificación de val\n",
            "====================================================================\n",
            "              precision    recall  f1-score   support\n",
            "\n",
            "           0       0.76      0.86      0.81       287\n",
            "           1       0.67      0.50      0.57       160\n",
            "\n",
            "    accuracy                           0.73       447\n",
            "   macro avg       0.71      0.68      0.69       447\n",
            "weighted avg       0.73      0.73      0.72       447\n",
            "\n"
          ]
        }
      ]
    },
    {
      "cell_type": "markdown",
      "metadata": {
        "id": "e8V6FHsdSKK7"
      },
      "source": [
        "### Gradient Boosting Classifier"
      ]
    },
    {
      "cell_type": "markdown",
      "metadata": {
        "id": "knZlkTcRV4qP"
      },
      "source": [
        "#### Gradient Boosting Classifier con StandarScaler"
      ]
    },
    {
      "cell_type": "code",
      "metadata": {
        "id": "f5bUepsNSJpT",
        "colab": {
          "base_uri": "https://localhost:8080/"
        },
        "outputId": "bc9ef93d-69e4-4c21-ce18-092d06c585e2"
      },
      "source": [
        "gbc_model = make_pipeline(\n",
        "    StandardScaler(with_mean=False), \n",
        "    GradientBoostingClassifier(n_estimators=30, learning_rate=0.25)\n",
        ")\n",
        "gbc_model.fit(X_train_t0, y_train)"
      ],
      "execution_count": null,
      "outputs": [
        {
          "output_type": "execute_result",
          "data": {
            "text/plain": [
              "Pipeline(memory=None,\n",
              "         steps=[('standardscaler',\n",
              "                 StandardScaler(copy=True, with_mean=False, with_std=True)),\n",
              "                ('gradientboostingclassifier',\n",
              "                 GradientBoostingClassifier(ccp_alpha=0.0,\n",
              "                                            criterion='friedman_mse', init=None,\n",
              "                                            learning_rate=0.25, loss='deviance',\n",
              "                                            max_depth=3, max_features=None,\n",
              "                                            max_leaf_nodes=None,\n",
              "                                            min_impurity_decrease=0.0,\n",
              "                                            min_impurity_split=None,\n",
              "                                            min_samples_leaf=1,\n",
              "                                            min_samples_split=2,\n",
              "                                            min_weight_fraction_leaf=0.0,\n",
              "                                            n_estimators=30,\n",
              "                                            n_iter_no_change=None,\n",
              "                                            presort='deprecated',\n",
              "                                            random_state=None, subsample=1.0,\n",
              "                                            tol=0.0001, validation_fraction=0.1,\n",
              "                                            verbose=0, warm_start=False))],\n",
              "         verbose=False)"
            ]
          },
          "metadata": {},
          "execution_count": 190
        }
      ]
    },
    {
      "cell_type": "code",
      "metadata": {
        "id": "NO2NYT9NR0aX",
        "colab": {
          "base_uri": "https://localhost:8080/"
        },
        "outputId": "e11a22bb-a663-4b52-9abf-39925c104239"
      },
      "source": [
        "print(\"====================================================================\")\n",
        "print(\"Gradient Boosting Classifier - Reporte de clasificación de train\")\n",
        "print(\"====================================================================\")\n",
        "print(classification_report(y_train, gbc_model.predict(X_train_t0)))\n",
        "\n",
        "print(\"====================================================================\")\n",
        "print(\"Gradient Boosting Classifier - Reporte de clasificación de val\")\n",
        "print(\"====================================================================\")\n",
        "print(classification_report(y_val, gbc_model.predict(X_val_t0)))"
      ],
      "execution_count": null,
      "outputs": [
        {
          "output_type": "stream",
          "name": "stdout",
          "text": [
            "====================================================================\n",
            "Gradient Boosting Classifier - Reporte de clasificación de train\n",
            "====================================================================\n",
            "              precision    recall  f1-score   support\n",
            "\n",
            "           0       0.82      0.97      0.89       671\n",
            "           1       0.93      0.62      0.74       372\n",
            "\n",
            "    accuracy                           0.85      1043\n",
            "   macro avg       0.88      0.80      0.82      1043\n",
            "weighted avg       0.86      0.85      0.84      1043\n",
            "\n",
            "====================================================================\n",
            "Gradient Boosting Classifier - Reporte de clasificación de val\n",
            "====================================================================\n",
            "              precision    recall  f1-score   support\n",
            "\n",
            "           0       0.80      0.93      0.86       287\n",
            "           1       0.82      0.58      0.68       160\n",
            "\n",
            "    accuracy                           0.81       447\n",
            "   macro avg       0.81      0.76      0.77       447\n",
            "weighted avg       0.81      0.81      0.80       447\n",
            "\n"
          ]
        }
      ]
    },
    {
      "cell_type": "markdown",
      "metadata": {
        "id": "u5zTe6daScZm"
      },
      "source": [
        "### Random Forest Classifier"
      ]
    },
    {
      "cell_type": "markdown",
      "metadata": {
        "id": "wI4HqSpPXAF8"
      },
      "source": [
        "#### Random Forest Classifier con StandarScaler"
      ]
    },
    {
      "cell_type": "code",
      "metadata": {
        "id": "ZTW0ZnpXTBBi",
        "colab": {
          "base_uri": "https://localhost:8080/"
        },
        "outputId": "866ffc27-3a5e-4575-bca0-2fd5b6adc488"
      },
      "source": [
        "rf_model = make_pipeline(\n",
        "    StandardScaler(with_mean=False), \n",
        "    RandomForestClassifier(n_estimators=100, random_state=0)\n",
        ")\n",
        "rf_model.fit(X_train_t0, y_train)"
      ],
      "execution_count": null,
      "outputs": [
        {
          "output_type": "execute_result",
          "data": {
            "text/plain": [
              "Pipeline(memory=None,\n",
              "         steps=[('standardscaler',\n",
              "                 StandardScaler(copy=True, with_mean=False, with_std=True)),\n",
              "                ('randomforestclassifier',\n",
              "                 RandomForestClassifier(bootstrap=True, ccp_alpha=0.0,\n",
              "                                        class_weight=None, criterion='gini',\n",
              "                                        max_depth=None, max_features='auto',\n",
              "                                        max_leaf_nodes=None, max_samples=None,\n",
              "                                        min_impurity_decrease=0.0,\n",
              "                                        min_impurity_split=None,\n",
              "                                        min_samples_leaf=1, min_samples_split=2,\n",
              "                                        min_weight_fraction_leaf=0.0,\n",
              "                                        n_estimators=100, n_jobs=None,\n",
              "                                        oob_score=False, random_state=0,\n",
              "                                        verbose=0, warm_start=False))],\n",
              "         verbose=False)"
            ]
          },
          "metadata": {},
          "execution_count": 192
        }
      ]
    },
    {
      "cell_type": "code",
      "metadata": {
        "id": "VkuJnSUhSbUd",
        "colab": {
          "base_uri": "https://localhost:8080/"
        },
        "outputId": "f7ae5a7f-2650-4476-fc4d-96ac44437014"
      },
      "source": [
        "print(\"====================================================================\")\n",
        "print(\"Random Forest Classifier - Reporte de clasificación de train\")\n",
        "print(\"====================================================================\")\n",
        "print(classification_report(y_train, rf_model.predict(X_train_t0)))\n",
        "\n",
        "print(\"====================================================================\")\n",
        "print(\"Random Forest Classifier - Reporte de clasificación de val\")\n",
        "print(\"====================================================================\")\n",
        "print(classification_report(y_val, rf_model.predict(X_val_t0)))"
      ],
      "execution_count": null,
      "outputs": [
        {
          "output_type": "stream",
          "name": "stdout",
          "text": [
            "====================================================================\n",
            "Random Forest Classifier - Reporte de clasificación de train\n",
            "====================================================================\n",
            "              precision    recall  f1-score   support\n",
            "\n",
            "           0       0.90      0.97      0.93       671\n",
            "           1       0.94      0.80      0.87       372\n",
            "\n",
            "    accuracy                           0.91      1043\n",
            "   macro avg       0.92      0.89      0.90      1043\n",
            "weighted avg       0.91      0.91      0.91      1043\n",
            "\n",
            "====================================================================\n",
            "Random Forest Classifier - Reporte de clasificación de val\n",
            "====================================================================\n",
            "              precision    recall  f1-score   support\n",
            "\n",
            "           0       0.80      0.86      0.83       287\n",
            "           1       0.72      0.61      0.66       160\n",
            "\n",
            "    accuracy                           0.77       447\n",
            "   macro avg       0.76      0.74      0.75       447\n",
            "weighted avg       0.77      0.77      0.77       447\n",
            "\n"
          ]
        }
      ]
    },
    {
      "cell_type": "markdown",
      "metadata": {
        "id": "cHv8peP1bBJb"
      },
      "source": [
        "#### Random Forest con Cross Validation"
      ]
    },
    {
      "cell_type": "code",
      "metadata": {
        "id": "X7TZWZeBbMWb",
        "colab": {
          "base_uri": "https://localhost:8080/"
        },
        "outputId": "60dd5eab-5c54-4514-c016-54152e7cf62e"
      },
      "source": [
        "param_grid = {\n",
        "    'n_estimators': [150],\n",
        "    'max_features': [5, 7, 9],\n",
        "    'max_depth'   : [None, 3, 10, 20],\n",
        "    'criterion'   : ['gini', 'entropy']\n",
        "}\n",
        "\n",
        "# Grid Search CV implementation\n",
        "rf = RandomForestClassifier(\n",
        "                oob_score    = True,\n",
        "                n_jobs       = -1,\n",
        "                random_state = 123)\n",
        "rf_clf = GridSearchCV(rf, param_grid, scoring='f1', n_jobs=-1, cv=3)\n",
        "rf_clf.fit(X_train_t0, y_train)\n",
        "best_rf_clf = rf_clf.best_estimator_\n",
        "best_rf_clf"
      ],
      "execution_count": null,
      "outputs": [
        {
          "output_type": "execute_result",
          "data": {
            "text/plain": [
              "RandomForestClassifier(bootstrap=True, ccp_alpha=0.0, class_weight=None,\n",
              "                       criterion='entropy', max_depth=10, max_features=9,\n",
              "                       max_leaf_nodes=None, max_samples=None,\n",
              "                       min_impurity_decrease=0.0, min_impurity_split=None,\n",
              "                       min_samples_leaf=1, min_samples_split=2,\n",
              "                       min_weight_fraction_leaf=0.0, n_estimators=150,\n",
              "                       n_jobs=-1, oob_score=True, random_state=123, verbose=0,\n",
              "                       warm_start=False)"
            ]
          },
          "metadata": {},
          "execution_count": 194
        }
      ]
    },
    {
      "cell_type": "code",
      "metadata": {
        "id": "TsEy_KgybAt-",
        "colab": {
          "base_uri": "https://localhost:8080/"
        },
        "outputId": "de368e2f-65b3-400b-c4e5-31bcff0501ae"
      },
      "source": [
        "print(\"====================================================================\")\n",
        "print(\"Random Forest Classifier con CV - Reporte de clasificación de train\")\n",
        "print(\"====================================================================\")\n",
        "print(classification_report(y_train, best_rf_clf.predict(X_train_t0)))\n",
        "\n",
        "print(\"====================================================================\")\n",
        "print(\"Random Forest Classifier con CV - Reporte de clasificación de val\")\n",
        "print(\"====================================================================\")\n",
        "print(classification_report(y_val, best_rf_clf.predict(X_val_t0)))"
      ],
      "execution_count": null,
      "outputs": [
        {
          "output_type": "stream",
          "name": "stdout",
          "text": [
            "====================================================================\n",
            "Random Forest Classifier con CV - Reporte de clasificación de train\n",
            "====================================================================\n",
            "              precision    recall  f1-score   support\n",
            "\n",
            "           0       0.85      0.98      0.91       671\n",
            "           1       0.96      0.69      0.80       372\n",
            "\n",
            "    accuracy                           0.88      1043\n",
            "   macro avg       0.90      0.84      0.86      1043\n",
            "weighted avg       0.89      0.88      0.87      1043\n",
            "\n",
            "====================================================================\n",
            "Random Forest Classifier con CV - Reporte de clasificación de val\n",
            "====================================================================\n",
            "              precision    recall  f1-score   support\n",
            "\n",
            "           0       0.80      0.91      0.85       287\n",
            "           1       0.78      0.59      0.67       160\n",
            "\n",
            "    accuracy                           0.79       447\n",
            "   macro avg       0.79      0.75      0.76       447\n",
            "weighted avg       0.79      0.79      0.79       447\n",
            "\n"
          ]
        }
      ]
    },
    {
      "cell_type": "markdown",
      "metadata": {
        "id": "U9mvbqgJzuSp"
      },
      "source": [
        "### Cat Boost Classifier"
      ]
    },
    {
      "cell_type": "markdown",
      "metadata": {
        "id": "mxqyAW0eZXNf"
      },
      "source": [
        "#### CatBoost Classifier con StandarScaler"
      ]
    },
    {
      "cell_type": "code",
      "metadata": {
        "id": "t4iK7blFz-WP",
        "colab": {
          "base_uri": "https://localhost:8080/"
        },
        "outputId": "a10cafde-350d-4399-bbb1-c15bb2a1c2eb"
      },
      "source": [
        "cb_model = make_pipeline(\n",
        "    StandardScaler(with_mean=False), \n",
        "    #CatBoostClassifier(iterations=2, learning_rate=1, depth=2)\n",
        "    CatBoostClassifier(verbose=0)\n",
        ")\n",
        "cb_model.fit(X_train_t2, y_train)"
      ],
      "execution_count": null,
      "outputs": [
        {
          "output_type": "execute_result",
          "data": {
            "text/plain": [
              "Pipeline(memory=None,\n",
              "         steps=[('standardscaler',\n",
              "                 StandardScaler(copy=True, with_mean=False, with_std=True)),\n",
              "                ('catboostclassifier',\n",
              "                 <catboost.core.CatBoostClassifier object at 0x7f41cd27dc50>)],\n",
              "         verbose=False)"
            ]
          },
          "metadata": {},
          "execution_count": 196
        }
      ]
    },
    {
      "cell_type": "code",
      "metadata": {
        "id": "Bc4nxotm03LB",
        "colab": {
          "base_uri": "https://localhost:8080/"
        },
        "outputId": "442f5bfe-60a2-404a-a1ce-eb4a27bacc7c"
      },
      "source": [
        "print(\"====================================================================\")\n",
        "print(\"CatBoost Classifier con StandarScaler - Reporte de clasificación de train\")\n",
        "print(\"====================================================================\")\n",
        "print(classification_report(y_train, cb_model.predict(X_train_t2)))\n",
        "\n",
        "print(\"====================================================================\")\n",
        "print(\"CatBoost Classifier con StandarScaler - Reporte de clasificación de val\")\n",
        "print(\"====================================================================\")\n",
        "print(classification_report(y_val, cb_model.predict(X_val_t2)))"
      ],
      "execution_count": null,
      "outputs": [
        {
          "output_type": "stream",
          "name": "stdout",
          "text": [
            "====================================================================\n",
            "CatBoost Classifier con StandarScaler - Reporte de clasificación de train\n",
            "====================================================================\n",
            "              precision    recall  f1-score   support\n",
            "\n",
            "           0       0.86      0.98      0.92       671\n",
            "           1       0.96      0.71      0.82       372\n",
            "\n",
            "    accuracy                           0.89      1043\n",
            "   macro avg       0.91      0.85      0.87      1043\n",
            "weighted avg       0.89      0.89      0.88      1043\n",
            "\n",
            "====================================================================\n",
            "CatBoost Classifier con StandarScaler - Reporte de clasificación de val\n",
            "====================================================================\n",
            "              precision    recall  f1-score   support\n",
            "\n",
            "           0       0.79      0.91      0.85       287\n",
            "           1       0.78      0.57      0.66       160\n",
            "\n",
            "    accuracy                           0.79       447\n",
            "   macro avg       0.79      0.74      0.75       447\n",
            "weighted avg       0.79      0.79      0.78       447\n",
            "\n"
          ]
        }
      ]
    },
    {
      "cell_type": "markdown",
      "metadata": {
        "id": "-MSDQEkOSZTH"
      },
      "source": [
        "## Predicciones sobre el conjunto de test\n",
        "\n",
        "Generamos el archivo csv para ser enviado a la competencia."
      ]
    },
    {
      "cell_type": "code",
      "metadata": {
        "id": "tR2Fwc1fGvok"
      },
      "source": [
        "test_id = test_df[\"Customer\"]\n",
        "columns = [\"Customer\", \"TravelInsurance\"]"
      ],
      "execution_count": null,
      "outputs": []
    },
    {
      "cell_type": "markdown",
      "metadata": {
        "id": "2hk8E4s7SoC0"
      },
      "source": [
        "**XGBoost**"
      ]
    },
    {
      "cell_type": "code",
      "metadata": {
        "id": "GVVSQ0TUSU7v"
      },
      "source": [
        "test_pred = xgb_model.predict(X_test_t0)\n",
        "submission = pd.DataFrame(list(zip(test_id, test_pred)), columns=columns)\n",
        "submission.to_csv('travel_insurance_submission.csv', header=True, index=False)\n",
        "files.download('travel_insurance_submission.csv')"
      ],
      "execution_count": null,
      "outputs": []
    },
    {
      "cell_type": "markdown",
      "metadata": {
        "id": "QNmaxPfTSudZ"
      },
      "source": [
        "**LightGBM**"
      ]
    },
    {
      "cell_type": "code",
      "metadata": {
        "id": "HWygZ0ahSU0z"
      },
      "source": [
        "test_pred2 = lgbm_model.predict(X_test_t0)\n",
        "submission2 = pd.DataFrame(list(zip(test_id, test_pred2)), columns=columns)\n",
        "submission2.to_csv('travel_insurance_submission2.csv', header=True, index=False)\n",
        "files.download('travel_insurance_submission2.csv')"
      ],
      "execution_count": null,
      "outputs": []
    },
    {
      "cell_type": "markdown",
      "metadata": {
        "id": "0GSGnfSMS3YK"
      },
      "source": [
        "**Gradient Boosting**"
      ]
    },
    {
      "cell_type": "code",
      "metadata": {
        "id": "vQCk8me3SUvU"
      },
      "source": [
        "test_pred3 = gbc_model.predict(X_test_t0)\n",
        "submission3 = pd.DataFrame(list(zip(test_id, test_pred3)), columns=columns)\n",
        "submission3.to_csv('travel_insurance_submission3.csv', header=True, index=False)\n",
        "files.download('travel_insurance_submission3.csv')"
      ],
      "execution_count": null,
      "outputs": []
    },
    {
      "cell_type": "markdown",
      "metadata": {
        "id": "8CQY_vD3XFME"
      },
      "source": [
        "**Random Forest**"
      ]
    },
    {
      "cell_type": "code",
      "metadata": {
        "id": "9aylfFW0Rr1P"
      },
      "source": [
        "test_pred4 = rf_model.predict(X_test_t0)\n",
        "submission4 = pd.DataFrame(list(zip(test_id, test_pred4)), columns=columns)\n",
        "submission4.to_csv('travel_insurance_submission4.csv', header=True, index=False)\n",
        "files.download('travel_insurance_submission4.csv')"
      ],
      "execution_count": null,
      "outputs": []
    },
    {
      "cell_type": "markdown",
      "metadata": {
        "id": "EZY2mWfKc3av"
      },
      "source": [
        "**Random Forest CV**"
      ]
    },
    {
      "cell_type": "code",
      "metadata": {
        "id": "9eLpNkoZaHq8"
      },
      "source": [
        "test_pred5 = best_rf_clf.predict(X_test_t0)\n",
        "submission5 = pd.DataFrame(list(zip(test_id, test_pred5)), columns=columns)\n",
        "submission5.to_csv('travel_insurance_submission5.csv', header=True, index=False)\n",
        "# Es el mejor modelo hasta ahora, F1 de test: 0.80898\n",
        "files.download('travel_insurance_submission5.csv') "
      ],
      "execution_count": null,
      "outputs": []
    },
    {
      "cell_type": "markdown",
      "metadata": {
        "id": "40zNCZNbCCM8"
      },
      "source": [
        "**Cat Boost**\n",
        "\n"
      ]
    },
    {
      "cell_type": "code",
      "metadata": {
        "id": "FwZ38Ag2CFM-"
      },
      "source": [
        "test_pred6 = cb_model.predict(X_test_t2)\n",
        "submission6 = pd.DataFrame(list(zip(test_id, test_pred6)), columns=columns)\n",
        "submission6.to_csv('travel_insurance_submission6.csv', header=True, index=False)\n",
        "files.download('travel_insurance_submission6.csv') "
      ],
      "execution_count": null,
      "outputs": []
    },
    {
      "cell_type": "markdown",
      "metadata": {
        "id": "El7gq_4KRRWT"
      },
      "source": [
        "## Conclusiones\n",
        "\n",
        "Si bien se probaron diferentes técnicas tanto de ingeniería de datos así como también distintos modelos, no se lograron resultados muy buenos. En algunos casos el modelo parece hacer _overfitting_ sobre el conjunto de entrenamiento.\n",
        "\n",
        "Los modelos con mejores f1-score en la competencia Kaggle fueron:\n",
        "- **Random Forest** con CV: 0.80898\n",
        "- **XGBoost**, y **Gradient Boosting**: 0,79545 (mismo score ambos)"
      ]
    }
  ]
}